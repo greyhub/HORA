{
 "cells": [
  {
   "cell_type": "code",
   "execution_count": 1,
   "metadata": {},
   "outputs": [],
   "source": [
    "import pandas as pd\n",
    "import numpy as np"
   ]
  },
  {
   "cell_type": "code",
   "execution_count": 2,
   "metadata": {},
   "outputs": [
    {
     "name": "stderr",
     "output_type": "stream",
     "text": [
      "C:\\Users\\ADMIN\\anaconda3\\lib\\site-packages\\IPython\\core\\interactiveshell.py:3071: DtypeWarning: Columns (4) have mixed types.Specify dtype option on import or set low_memory=False.\n",
      "  has_raised = await self.run_ast_nodes(code_ast.body, cell_name,\n"
     ]
    }
   ],
   "source": [
    "rank = pd.read_csv('./Demo_4k/rank.csv')\n",
    "hotel_map = pd.read_csv('./Cleaned Table/hotel_map.csv')\n",
    "roothotel_info = pd.read_csv('./TripI/roothotel_info.csv')\n",
    "hotel_v4 = pd.read_csv('./TripI/hotel_v4.csv')\n",
    "hotel_image = pd.read_csv(\"./TripI/hotel_image.csv\")"
   ]
  },
  {
   "cell_type": "markdown",
   "metadata": {},
   "source": [
    "# 1. Add 3 Image"
   ]
  },
  {
   "cell_type": "code",
   "execution_count": 3,
   "metadata": {},
   "outputs": [],
   "source": [
    "temp = hotel_map[['domain_hotel_id', 'hotel_id']]\n",
    "hotel_image = hotel_image.merge(temp, on = 'domain_hotel_id')"
   ]
  },
  {
   "cell_type": "code",
   "execution_count": 4,
   "metadata": {},
   "outputs": [
    {
     "name": "stderr",
     "output_type": "stream",
     "text": [
      "<ipython-input-4-f27c4c33f0d4>:3: SettingWithCopyWarning: \n",
      "A value is trying to be set on a copy of a slice from a DataFrame.\n",
      "Try using .loc[row_indexer,col_indexer] = value instead\n",
      "\n",
      "See the caveats in the documentation: https://pandas.pydata.org/pandas-docs/stable/user_guide/indexing.html#returning-a-view-versus-a-copy\n",
      "  temp['provider_url_1'] = 'a'\n",
      "<ipython-input-4-f27c4c33f0d4>:4: SettingWithCopyWarning: \n",
      "A value is trying to be set on a copy of a slice from a DataFrame.\n",
      "Try using .loc[row_indexer,col_indexer] = value instead\n",
      "\n",
      "See the caveats in the documentation: https://pandas.pydata.org/pandas-docs/stable/user_guide/indexing.html#returning-a-view-versus-a-copy\n",
      "  temp['provider_url_2'] = 'a'\n",
      "<ipython-input-4-f27c4c33f0d4>:12: SettingWithCopyWarning: \n",
      "A value is trying to be set on a copy of a slice from a DataFrame.\n",
      "Try using .loc[row_indexer,col_indexer] = value instead\n",
      "\n",
      "See the caveats in the documentation: https://pandas.pydata.org/pandas-docs/stable/user_guide/indexing.html#returning-a-view-versus-a-copy\n",
      "  temp[temp['hotel_id'] == i]['provider_url_1'] = a_1\n",
      "<ipython-input-4-f27c4c33f0d4>:13: SettingWithCopyWarning: \n",
      "A value is trying to be set on a copy of a slice from a DataFrame.\n",
      "Try using .loc[row_indexer,col_indexer] = value instead\n",
      "\n",
      "See the caveats in the documentation: https://pandas.pydata.org/pandas-docs/stable/user_guide/indexing.html#returning-a-view-versus-a-copy\n",
      "  temp[temp['hotel_id'] == i]['provider_url_2'] = a_2\n",
      "<ipython-input-4-f27c4c33f0d4>:14: SettingWithCopyWarning: \n",
      "A value is trying to be set on a copy of a slice from a DataFrame.\n",
      "Try using .loc[row_indexer,col_indexer] = value instead\n",
      "\n",
      "See the caveats in the documentation: https://pandas.pydata.org/pandas-docs/stable/user_guide/indexing.html#returning-a-view-versus-a-copy\n",
      "  temp[temp['hotel_id'] == i]['provider_url_3'] = a_3\n"
     ]
    }
   ],
   "source": [
    "h = pd.unique(hotel_image['hotel_id'].values)\n",
    "temp = hotel_image[['hotel_id']]\n",
    "temp['provider_url_1'] = 'a'\n",
    "temp['provider_url_2'] = 'a'\n",
    "temp['provider_url_3'] = 'a'\n",
    "for i in h:\n",
    "    #temp = pd.concat([temp, hotel_image[hotel_image['hotel_id'] == i].head(3)])\n",
    "    try:\n",
    "        a_1 = hotel_image[hotel_image['hotel_id'] == i].iloc[0]['provider_url']\n",
    "        a_2 = hotel_image[hotel_image['hotel_id'] == i].iloc[1]['provider_url']\n",
    "        a_3 = hotel_image[hotel_image['hotel_id'] == i].iloc[2]['provider_url']\n",
    "        temp[temp['hotel_id'] == i]['provider_url_1'] = a_1\n",
    "        temp[temp['hotel_id'] == i]['provider_url_2'] = a_2\n",
    "        temp[temp['hotel_id'] == i]['provider_url_3'] = a_3\n",
    "    except: \n",
    "        continue"
   ]
  },
  {
   "cell_type": "code",
   "execution_count": 5,
   "metadata": {},
   "outputs": [],
   "source": [
    "h = pd.unique(hotel_image['hotel_id'].values)\n",
    "temp = hotel_image.head(1)\n",
    "for i in h:\n",
    "    temp = pd.concat([temp, hotel_image[hotel_image['hotel_id'] == i].head(1)])"
   ]
  },
  {
   "cell_type": "code",
   "execution_count": 6,
   "metadata": {},
   "outputs": [],
   "source": [
    "h = pd.unique(hotel_image['hotel_id'].values)\n",
    "temp2 = hotel_image.head(1)\n",
    "for i in h:\n",
    "    try:\n",
    "        temp2 = pd.concat([temp2, hotel_image[hotel_image['hotel_id'] == i].head(2).iloc[[1]]])\n",
    "    except: \n",
    "        continue"
   ]
  },
  {
   "cell_type": "code",
   "execution_count": 7,
   "metadata": {},
   "outputs": [],
   "source": [
    "h = pd.unique(hotel_image['hotel_id'].values)\n",
    "temp3 = hotel_image.head(1)\n",
    "for i in h:\n",
    "    try:\n",
    "        temp3 = pd.concat([temp3, hotel_image[hotel_image['hotel_id'] == i].head(3).iloc[[2]]])\n",
    "    except: \n",
    "        continue"
   ]
  },
  {
   "cell_type": "code",
   "execution_count": 8,
   "metadata": {},
   "outputs": [],
   "source": [
    "l = temp2[['hotel_id','provider_url']]\n",
    "temp = temp.merge(l, on = 'hotel_id')\n",
    "l = temp3[['hotel_id','provider_url']]\n",
    "temp = temp.merge(l, on = 'hotel_id')\n",
    "temp = temp.rename(columns = {'provider_url_x':'provider_url_1','provider_url_y':'provider_url_2','provider_url':'provider_url_3'})"
   ]
  },
  {
   "cell_type": "code",
   "execution_count": 9,
   "metadata": {},
   "outputs": [],
   "source": [
    "a = temp.iloc[[3]]\n",
    "temp = temp[temp['hotel_id'] != 43835]\n",
    "temp = pd.concat([temp, a])"
   ]
  },
  {
   "cell_type": "code",
   "execution_count": 10,
   "metadata": {},
   "outputs": [
    {
     "name": "stdout",
     "output_type": "stream",
     "text": [
      "<class 'pandas.core.frame.DataFrame'>\n",
      "Int64Index: 6506 entries, 8 to 3\n",
      "Data columns (total 4 columns):\n",
      " #   Column          Non-Null Count  Dtype  \n",
      "---  ------          --------------  -----  \n",
      " 0   provider_url_1  6506 non-null   object \n",
      " 1   hotel_id        6506 non-null   float64\n",
      " 2   provider_url_2  6506 non-null   object \n",
      " 3   provider_url_3  6506 non-null   object \n",
      "dtypes: float64(1), object(3)\n",
      "memory usage: 254.1+ KB\n"
     ]
    }
   ],
   "source": [
    "temp = temp.drop_duplicates()\n",
    "temp = temp.drop(['domain_id', 'domain_hotel_id'], axis = 1)\n",
    "temp.info()"
   ]
  },
  {
   "cell_type": "code",
   "execution_count": 11,
   "metadata": {},
   "outputs": [
    {
     "name": "stdout",
     "output_type": "stream",
     "text": [
      "<class 'pandas.core.frame.DataFrame'>\n",
      "RangeIndex: 5224 entries, 0 to 5223\n",
      "Data columns (total 47 columns):\n",
      " #   Column                          Non-Null Count  Dtype  \n",
      "---  ------                          --------------  -----  \n",
      " 0   hotel_id                        5224 non-null   float64\n",
      " 1   name                            5224 non-null   object \n",
      " 2   address                         5224 non-null   object \n",
      " 3   overall_score_OTA               5224 non-null   float64\n",
      " 4   overall_score                   5224 non-null   float64\n",
      " 5   score_mean                      5224 non-null   float64\n",
      " 6   counts_search                   5224 non-null   float64\n",
      " 7   counts_click                    5224 non-null   float64\n",
      " 8   counts_book                     5224 non-null   float64\n",
      " 9   review_score                    5224 non-null   float64\n",
      " 10  SCORE                           5224 non-null   float64\n",
      " 11  province_id                     5224 non-null   float64\n",
      " 12  district_id                     4356 non-null   float64\n",
      " 13  latitude                        5218 non-null   float64\n",
      " 14  longitude                       5218 non-null   float64\n",
      " 15  description                     5080 non-null   object \n",
      " 16  tours                           5224 non-null   int64  \n",
      " 17  night_club                      5224 non-null   int64  \n",
      " 18  relax_spa                       5224 non-null   int64  \n",
      " 19  relax_massage                   5224 non-null   int64  \n",
      " 20  relax_steam_room                5224 non-null   int64  \n",
      " 21  relax_outdoor_room              5224 non-null   int64  \n",
      " 22  relax_outdoor_pool              5224 non-null   int64  \n",
      " 23  relax_sauna                     5224 non-null   int64  \n",
      " 24  relax_pool                      5224 non-null   int64  \n",
      " 25  currency_exchange               5224 non-null   int64  \n",
      " 26  room_service_24_hour            5224 non-null   int64  \n",
      " 27  elevator                        5224 non-null   int64  \n",
      " 28  safely_deposit_boxed            5224 non-null   int64  \n",
      " 29  luggage_storage                 5224 non-null   int64  \n",
      " 30  poolside_bar                    5224 non-null   int64  \n",
      " 31  airport_transfer                5224 non-null   int64  \n",
      " 32  restaurants                     5224 non-null   int64  \n",
      " 33  concierge                       5224 non-null   int64  \n",
      " 34  shops                           5224 non-null   int64  \n",
      " 35  meeting_facilities              5224 non-null   int64  \n",
      " 36  baby_sitting                    5224 non-null   int64  \n",
      " 37  facilities_for_disabled_guests  5224 non-null   int64  \n",
      " 38  private_beach                   5224 non-null   int64  \n",
      " 39  front_desk_24_hour              5224 non-null   int64  \n",
      " 40  bar                             5224 non-null   int64  \n",
      " 41  laundry_service                 5224 non-null   int64  \n",
      " 42  shuttle_room                    5224 non-null   int64  \n",
      " 43  price_mean                      5224 non-null   float64\n",
      " 44  provider_url_1                  4765 non-null   object \n",
      " 45  provider_url_2                  4765 non-null   object \n",
      " 46  provider_url_3                  4765 non-null   object \n",
      "dtypes: float64(14), int64(27), object(6)\n",
      "memory usage: 1.9+ MB\n"
     ]
    }
   ],
   "source": [
    "rank = rank.join(temp.set_index('hotel_id'), on = 'hotel_id')\n",
    "rank.info()"
   ]
  },
  {
   "cell_type": "code",
   "execution_count": 12,
   "metadata": {},
   "outputs": [],
   "source": [
    "link = 'https://mir-s3-cdn-cf.behance.net/project_modules/fs/e4942462741187.5a99c7ef8ef23.jpg?fbclid=IwAR0Er8lPUgJ_D6wXIYd3YPSjMObMGm4hlu5SRF1arLqHOgEP4zRIhdtt39Y'\n",
    "rank['provider_url_1'] = rank['provider_url_1'].fillna(link)\n",
    "rank['provider_url_2'] = rank['provider_url_2'].fillna(link)\n",
    "rank['provider_url_3'] = rank['provider_url_3'].fillna(link)"
   ]
  },
  {
   "cell_type": "code",
   "execution_count": 13,
   "metadata": {},
   "outputs": [
    {
     "name": "stdout",
     "output_type": "stream",
     "text": [
      "<class 'pandas.core.frame.DataFrame'>\n",
      "RangeIndex: 5224 entries, 0 to 5223\n",
      "Data columns (total 47 columns):\n",
      " #   Column                          Non-Null Count  Dtype  \n",
      "---  ------                          --------------  -----  \n",
      " 0   hotel_id                        5224 non-null   float64\n",
      " 1   name                            5224 non-null   object \n",
      " 2   address                         5224 non-null   object \n",
      " 3   overall_score_OTA               5224 non-null   float64\n",
      " 4   overall_score                   5224 non-null   float64\n",
      " 5   score_mean                      5224 non-null   float64\n",
      " 6   counts_search                   5224 non-null   float64\n",
      " 7   counts_click                    5224 non-null   float64\n",
      " 8   counts_book                     5224 non-null   float64\n",
      " 9   review_score                    5224 non-null   float64\n",
      " 10  SCORE                           5224 non-null   float64\n",
      " 11  province_id                     5224 non-null   float64\n",
      " 12  district_id                     4356 non-null   float64\n",
      " 13  latitude                        5218 non-null   float64\n",
      " 14  longitude                       5218 non-null   float64\n",
      " 15  description                     5080 non-null   object \n",
      " 16  tours                           5224 non-null   int64  \n",
      " 17  night_club                      5224 non-null   int64  \n",
      " 18  relax_spa                       5224 non-null   int64  \n",
      " 19  relax_massage                   5224 non-null   int64  \n",
      " 20  relax_steam_room                5224 non-null   int64  \n",
      " 21  relax_outdoor_room              5224 non-null   int64  \n",
      " 22  relax_outdoor_pool              5224 non-null   int64  \n",
      " 23  relax_sauna                     5224 non-null   int64  \n",
      " 24  relax_pool                      5224 non-null   int64  \n",
      " 25  currency_exchange               5224 non-null   int64  \n",
      " 26  room_service_24_hour            5224 non-null   int64  \n",
      " 27  elevator                        5224 non-null   int64  \n",
      " 28  safely_deposit_boxed            5224 non-null   int64  \n",
      " 29  luggage_storage                 5224 non-null   int64  \n",
      " 30  poolside_bar                    5224 non-null   int64  \n",
      " 31  airport_transfer                5224 non-null   int64  \n",
      " 32  restaurants                     5224 non-null   int64  \n",
      " 33  concierge                       5224 non-null   int64  \n",
      " 34  shops                           5224 non-null   int64  \n",
      " 35  meeting_facilities              5224 non-null   int64  \n",
      " 36  baby_sitting                    5224 non-null   int64  \n",
      " 37  facilities_for_disabled_guests  5224 non-null   int64  \n",
      " 38  private_beach                   5224 non-null   int64  \n",
      " 39  front_desk_24_hour              5224 non-null   int64  \n",
      " 40  bar                             5224 non-null   int64  \n",
      " 41  laundry_service                 5224 non-null   int64  \n",
      " 42  shuttle_room                    5224 non-null   int64  \n",
      " 43  price_mean                      5224 non-null   float64\n",
      " 44  provider_url_1                  5224 non-null   object \n",
      " 45  provider_url_2                  5224 non-null   object \n",
      " 46  provider_url_3                  5224 non-null   object \n",
      "dtypes: float64(14), int64(27), object(6)\n",
      "memory usage: 1.9+ MB\n"
     ]
    }
   ],
   "source": [
    "rank.info()"
   ]
  },
  {
   "cell_type": "markdown",
   "metadata": {},
   "source": [
    "# 2. Star_number for rank.csv"
   ]
  },
  {
   "cell_type": "code",
   "execution_count": 14,
   "metadata": {},
   "outputs": [
    {
     "data": {
      "text/html": [
       "<div>\n",
       "<style scoped>\n",
       "    .dataframe tbody tr th:only-of-type {\n",
       "        vertical-align: middle;\n",
       "    }\n",
       "\n",
       "    .dataframe tbody tr th {\n",
       "        vertical-align: top;\n",
       "    }\n",
       "\n",
       "    .dataframe thead th {\n",
       "        text-align: right;\n",
       "    }\n",
       "</style>\n",
       "<table border=\"1\" class=\"dataframe\">\n",
       "  <thead>\n",
       "    <tr style=\"text-align: right;\">\n",
       "      <th></th>\n",
       "      <th>hotel_id</th>\n",
       "      <th>name</th>\n",
       "      <th>address</th>\n",
       "      <th>overall_score_OTA</th>\n",
       "      <th>overall_score</th>\n",
       "      <th>score_mean</th>\n",
       "      <th>counts_search</th>\n",
       "      <th>counts_click</th>\n",
       "      <th>counts_book</th>\n",
       "      <th>review_score</th>\n",
       "      <th>...</th>\n",
       "      <th>private_beach</th>\n",
       "      <th>front_desk_24_hour</th>\n",
       "      <th>bar</th>\n",
       "      <th>laundry_service</th>\n",
       "      <th>shuttle_room</th>\n",
       "      <th>price_mean</th>\n",
       "      <th>provider_url_1</th>\n",
       "      <th>provider_url_2</th>\n",
       "      <th>provider_url_3</th>\n",
       "      <th>star_number</th>\n",
       "    </tr>\n",
       "  </thead>\n",
       "  <tbody>\n",
       "    <tr>\n",
       "      <th>0</th>\n",
       "      <td>40415.0</td>\n",
       "      <td>Premier Residences Phu Quoc Emerald Bay Manage...</td>\n",
       "      <td>Khem Beach An Thới, Phú Quốc, Kiên Giang</td>\n",
       "      <td>87.70834</td>\n",
       "      <td>88.0</td>\n",
       "      <td>87.85417</td>\n",
       "      <td>818.0</td>\n",
       "      <td>950.0</td>\n",
       "      <td>20.0</td>\n",
       "      <td>362.000000</td>\n",
       "      <td>...</td>\n",
       "      <td>-1</td>\n",
       "      <td>1</td>\n",
       "      <td>-1</td>\n",
       "      <td>-1</td>\n",
       "      <td>-1</td>\n",
       "      <td>2.012733e+06</td>\n",
       "      <td>https://images.trvl-media.com/hotels/33000000/...</td>\n",
       "      <td>https://images.trvl-media.com/hotels/33000000/...</td>\n",
       "      <td>https://images.trvl-media.com/hotels/33000000/...</td>\n",
       "      <td>5</td>\n",
       "    </tr>\n",
       "    <tr>\n",
       "      <th>1</th>\n",
       "      <td>40412.0</td>\n",
       "      <td>Seashells Hotel &amp; Spa Phú Quốc (Seashells Phu ...</td>\n",
       "      <td>Vo Thi Sau, Dương Đông, Đảo Phú Quốc, Việt Nam</td>\n",
       "      <td>90.00000</td>\n",
       "      <td>91.0</td>\n",
       "      <td>90.50000</td>\n",
       "      <td>1691.0</td>\n",
       "      <td>408.0</td>\n",
       "      <td>22.0</td>\n",
       "      <td>8101.899995</td>\n",
       "      <td>...</td>\n",
       "      <td>0</td>\n",
       "      <td>1</td>\n",
       "      <td>1</td>\n",
       "      <td>1</td>\n",
       "      <td>-1</td>\n",
       "      <td>1.537731e+06</td>\n",
       "      <td>https://q-xx.bstatic.com/xdata/images/hotel/84...</td>\n",
       "      <td>https://pix6.agoda.net/hotelImages/243/2430159...</td>\n",
       "      <td>https://pix6.agoda.net/hotelImages/2430159/-1/...</td>\n",
       "      <td>5</td>\n",
       "    </tr>\n",
       "    <tr>\n",
       "      <th>2</th>\n",
       "      <td>38408.0</td>\n",
       "      <td>Aaron Hotel</td>\n",
       "      <td>Số 6 Trần Quang Khải, Thành Phố Nha Trang, Khá...</td>\n",
       "      <td>86.00000</td>\n",
       "      <td>86.0</td>\n",
       "      <td>86.00000</td>\n",
       "      <td>4591.0</td>\n",
       "      <td>367.0</td>\n",
       "      <td>12.0</td>\n",
       "      <td>216.818182</td>\n",
       "      <td>...</td>\n",
       "      <td>0</td>\n",
       "      <td>1</td>\n",
       "      <td>1</td>\n",
       "      <td>1</td>\n",
       "      <td>-1</td>\n",
       "      <td>4.867947e+05</td>\n",
       "      <td>https://mir-s3-cdn-cf.behance.net/project_modu...</td>\n",
       "      <td>https://mir-s3-cdn-cf.behance.net/project_modu...</td>\n",
       "      <td>https://mir-s3-cdn-cf.behance.net/project_modu...</td>\n",
       "      <td>4</td>\n",
       "    </tr>\n",
       "  </tbody>\n",
       "</table>\n",
       "<p>3 rows × 48 columns</p>\n",
       "</div>"
      ],
      "text/plain": [
       "   hotel_id                                               name  \\\n",
       "0   40415.0  Premier Residences Phu Quoc Emerald Bay Manage...   \n",
       "1   40412.0  Seashells Hotel & Spa Phú Quốc (Seashells Phu ...   \n",
       "2   38408.0                                        Aaron Hotel   \n",
       "\n",
       "                                             address  overall_score_OTA  \\\n",
       "0           Khem Beach An Thới, Phú Quốc, Kiên Giang           87.70834   \n",
       "1  Vo Thi Sau, Dương Đông, Đảo Phú Quốc, Việt Nam           90.00000   \n",
       "2  Số 6 Trần Quang Khải, Thành Phố Nha Trang, Khá...           86.00000   \n",
       "\n",
       "   overall_score  score_mean  counts_search  counts_click  counts_book  \\\n",
       "0           88.0    87.85417          818.0         950.0         20.0   \n",
       "1           91.0    90.50000         1691.0         408.0         22.0   \n",
       "2           86.0    86.00000         4591.0         367.0         12.0   \n",
       "\n",
       "   review_score  ...  private_beach  front_desk_24_hour  bar  laundry_service  \\\n",
       "0    362.000000  ...             -1                   1   -1               -1   \n",
       "1   8101.899995  ...              0                   1    1                1   \n",
       "2    216.818182  ...              0                   1    1                1   \n",
       "\n",
       "   shuttle_room    price_mean  \\\n",
       "0            -1  2.012733e+06   \n",
       "1            -1  1.537731e+06   \n",
       "2            -1  4.867947e+05   \n",
       "\n",
       "                                      provider_url_1  \\\n",
       "0  https://images.trvl-media.com/hotels/33000000/...   \n",
       "1  https://q-xx.bstatic.com/xdata/images/hotel/84...   \n",
       "2  https://mir-s3-cdn-cf.behance.net/project_modu...   \n",
       "\n",
       "                                      provider_url_2  \\\n",
       "0  https://images.trvl-media.com/hotels/33000000/...   \n",
       "1  https://pix6.agoda.net/hotelImages/243/2430159...   \n",
       "2  https://mir-s3-cdn-cf.behance.net/project_modu...   \n",
       "\n",
       "                                      provider_url_3  star_number  \n",
       "0  https://images.trvl-media.com/hotels/33000000/...            5  \n",
       "1  https://pix6.agoda.net/hotelImages/2430159/-1/...            5  \n",
       "2  https://mir-s3-cdn-cf.behance.net/project_modu...            4  \n",
       "\n",
       "[3 rows x 48 columns]"
      ]
     },
     "execution_count": 14,
     "metadata": {},
     "output_type": "execute_result"
    }
   ],
   "source": [
    "temp = roothotel_info[['id', 'star_number']]\n",
    "temp = temp.rename(columns = {'id':'hotel_id'})\n",
    "rank = rank.merge(temp, on ='hotel_id')\n",
    "rank.head(3)"
   ]
  },
  {
   "cell_type": "markdown",
   "metadata": {},
   "source": [
    "# 3. Add Link for Agoda and Expedia Hotel"
   ]
  },
  {
   "cell_type": "code",
   "execution_count": 15,
   "metadata": {},
   "outputs": [
    {
     "name": "stdout",
     "output_type": "stream",
     "text": [
      "<class 'pandas.core.frame.DataFrame'>\n",
      "Int64Index: 6131 entries, 0 to 8596\n",
      "Data columns (total 3 columns):\n",
      " #   Column           Non-Null Count  Dtype  \n",
      "---  ------           --------------  -----  \n",
      " 0   domain_hotel_id  6131 non-null   int64  \n",
      " 1   domain_id        6131 non-null   float64\n",
      " 2   hotel_id         6131 non-null   float64\n",
      "dtypes: float64(2), int64(1)\n",
      "memory usage: 191.6 KB\n"
     ]
    }
   ],
   "source": [
    "a = hotel_map[(hotel_map['domain_id'] == 3) | (hotel_map['domain_id'] == 4)]\n",
    "temp = a[['domain_hotel_id','domain_id', 'hotel_id']]\n",
    "temp.info()"
   ]
  },
  {
   "cell_type": "code",
   "execution_count": 16,
   "metadata": {},
   "outputs": [
    {
     "name": "stdout",
     "output_type": "stream",
     "text": [
      "<class 'pandas.core.frame.DataFrame'>\n",
      "Int64Index: 7200 entries, 0 to 52936\n",
      "Data columns (total 4 columns):\n",
      " #   Column           Non-Null Count  Dtype  \n",
      "---  ------           --------------  -----  \n",
      " 0   domain_hotel_id  7200 non-null   int64  \n",
      " 1   domain_id        7200 non-null   float64\n",
      " 2   hotel_id         7200 non-null   float64\n",
      " 3   url              7199 non-null   object \n",
      "dtypes: float64(2), int64(1), object(1)\n",
      "memory usage: 281.2+ KB\n"
     ]
    }
   ],
   "source": [
    "b = hotel_v4[['domain_hotel_id', 'url']]\n",
    "temp = temp.merge(b, on = 'domain_hotel_id')\n",
    "temp = temp.drop_duplicates()\n",
    "temp.info()"
   ]
  },
  {
   "cell_type": "code",
   "execution_count": 17,
   "metadata": {},
   "outputs": [],
   "source": [
    "h = pd.unique(temp['hotel_id'].values)\n",
    "sample = temp.head(1)\n",
    "for i in h:\n",
    "    sample = pd.concat([sample, temp[temp['hotel_id'] == i].head(1)])"
   ]
  },
  {
   "cell_type": "code",
   "execution_count": 18,
   "metadata": {},
   "outputs": [],
   "source": [
    "sample = sample.drop_duplicates()\n",
    "sample = sample[-sample['url'].isna()]"
   ]
  },
  {
   "cell_type": "code",
   "execution_count": 19,
   "metadata": {},
   "outputs": [],
   "source": [
    "rank = rank.join(sample.set_index('hotel_id'), on = 'hotel_id')"
   ]
  },
  {
   "cell_type": "code",
   "execution_count": 20,
   "metadata": {},
   "outputs": [
    {
     "name": "stdout",
     "output_type": "stream",
     "text": [
      "<class 'pandas.core.frame.DataFrame'>\n",
      "Int64Index: 5224 entries, 0 to 5223\n",
      "Data columns (total 51 columns):\n",
      " #   Column                          Non-Null Count  Dtype  \n",
      "---  ------                          --------------  -----  \n",
      " 0   hotel_id                        5224 non-null   float64\n",
      " 1   name                            5224 non-null   object \n",
      " 2   address                         5224 non-null   object \n",
      " 3   overall_score_OTA               5224 non-null   float64\n",
      " 4   overall_score                   5224 non-null   float64\n",
      " 5   score_mean                      5224 non-null   float64\n",
      " 6   counts_search                   5224 non-null   float64\n",
      " 7   counts_click                    5224 non-null   float64\n",
      " 8   counts_book                     5224 non-null   float64\n",
      " 9   review_score                    5224 non-null   float64\n",
      " 10  SCORE                           5224 non-null   float64\n",
      " 11  province_id                     5224 non-null   float64\n",
      " 12  district_id                     4356 non-null   float64\n",
      " 13  latitude                        5218 non-null   float64\n",
      " 14  longitude                       5218 non-null   float64\n",
      " 15  description                     5080 non-null   object \n",
      " 16  tours                           5224 non-null   int64  \n",
      " 17  night_club                      5224 non-null   int64  \n",
      " 18  relax_spa                       5224 non-null   int64  \n",
      " 19  relax_massage                   5224 non-null   int64  \n",
      " 20  relax_steam_room                5224 non-null   int64  \n",
      " 21  relax_outdoor_room              5224 non-null   int64  \n",
      " 22  relax_outdoor_pool              5224 non-null   int64  \n",
      " 23  relax_sauna                     5224 non-null   int64  \n",
      " 24  relax_pool                      5224 non-null   int64  \n",
      " 25  currency_exchange               5224 non-null   int64  \n",
      " 26  room_service_24_hour            5224 non-null   int64  \n",
      " 27  elevator                        5224 non-null   int64  \n",
      " 28  safely_deposit_boxed            5224 non-null   int64  \n",
      " 29  luggage_storage                 5224 non-null   int64  \n",
      " 30  poolside_bar                    5224 non-null   int64  \n",
      " 31  airport_transfer                5224 non-null   int64  \n",
      " 32  restaurants                     5224 non-null   int64  \n",
      " 33  concierge                       5224 non-null   int64  \n",
      " 34  shops                           5224 non-null   int64  \n",
      " 35  meeting_facilities              5224 non-null   int64  \n",
      " 36  baby_sitting                    5224 non-null   int64  \n",
      " 37  facilities_for_disabled_guests  5224 non-null   int64  \n",
      " 38  private_beach                   5224 non-null   int64  \n",
      " 39  front_desk_24_hour              5224 non-null   int64  \n",
      " 40  bar                             5224 non-null   int64  \n",
      " 41  laundry_service                 5224 non-null   int64  \n",
      " 42  shuttle_room                    5224 non-null   int64  \n",
      " 43  price_mean                      5224 non-null   float64\n",
      " 44  provider_url_1                  5224 non-null   object \n",
      " 45  provider_url_2                  5224 non-null   object \n",
      " 46  provider_url_3                  5224 non-null   object \n",
      " 47  star_number                     5224 non-null   int64  \n",
      " 48  domain_hotel_id                 4151 non-null   float64\n",
      " 49  domain_id                       4151 non-null   float64\n",
      " 50  url                             4151 non-null   object \n",
      "dtypes: float64(16), int64(28), object(7)\n",
      "memory usage: 2.1+ MB\n"
     ]
    }
   ],
   "source": [
    "rank.info()"
   ]
  },
  {
   "cell_type": "markdown",
   "metadata": {},
   "source": [
    "# 4. Transform province_id to province_name"
   ]
  },
  {
   "cell_type": "code",
   "execution_count": 21,
   "metadata": {},
   "outputs": [],
   "source": [
    "province = pd.read_csv(\"./TripI/province.csv\")"
   ]
  },
  {
   "cell_type": "code",
   "execution_count": 22,
   "metadata": {},
   "outputs": [],
   "source": [
    "temp = province[['id','name']]\n",
    "temp = temp.rename(columns ={'id':'province_id'})\n",
    "rank = rank.merge(temp,on='province_id')"
   ]
  },
  {
   "cell_type": "code",
   "execution_count": 23,
   "metadata": {},
   "outputs": [
    {
     "data": {
      "text/html": [
       "<div>\n",
       "<style scoped>\n",
       "    .dataframe tbody tr th:only-of-type {\n",
       "        vertical-align: middle;\n",
       "    }\n",
       "\n",
       "    .dataframe tbody tr th {\n",
       "        vertical-align: top;\n",
       "    }\n",
       "\n",
       "    .dataframe thead th {\n",
       "        text-align: right;\n",
       "    }\n",
       "</style>\n",
       "<table border=\"1\" class=\"dataframe\">\n",
       "  <thead>\n",
       "    <tr style=\"text-align: right;\">\n",
       "      <th></th>\n",
       "      <th>hotel_id</th>\n",
       "      <th>name_x</th>\n",
       "      <th>address</th>\n",
       "      <th>overall_score_OTA</th>\n",
       "      <th>overall_score</th>\n",
       "      <th>score_mean</th>\n",
       "      <th>counts_search</th>\n",
       "      <th>counts_click</th>\n",
       "      <th>counts_book</th>\n",
       "      <th>review_score</th>\n",
       "      <th>...</th>\n",
       "      <th>shuttle_room</th>\n",
       "      <th>price_mean</th>\n",
       "      <th>provider_url_1</th>\n",
       "      <th>provider_url_2</th>\n",
       "      <th>provider_url_3</th>\n",
       "      <th>star_number</th>\n",
       "      <th>domain_hotel_id</th>\n",
       "      <th>domain_id</th>\n",
       "      <th>url</th>\n",
       "      <th>name_y</th>\n",
       "    </tr>\n",
       "  </thead>\n",
       "  <tbody>\n",
       "    <tr>\n",
       "      <th>0</th>\n",
       "      <td>40415.0</td>\n",
       "      <td>Premier Residences Phu Quoc Emerald Bay Manage...</td>\n",
       "      <td>Khem Beach An Thới, Phú Quốc, Kiên Giang</td>\n",
       "      <td>87.70834</td>\n",
       "      <td>88.0</td>\n",
       "      <td>87.85417</td>\n",
       "      <td>818.0</td>\n",
       "      <td>950.0</td>\n",
       "      <td>20.0</td>\n",
       "      <td>362.0</td>\n",
       "      <td>...</td>\n",
       "      <td>-1</td>\n",
       "      <td>2.012733e+06</td>\n",
       "      <td>https://images.trvl-media.com/hotels/33000000/...</td>\n",
       "      <td>https://images.trvl-media.com/hotels/33000000/...</td>\n",
       "      <td>https://images.trvl-media.com/hotels/33000000/...</td>\n",
       "      <td>5</td>\n",
       "      <td>32091854.0</td>\n",
       "      <td>4.0</td>\n",
       "      <td>32091854</td>\n",
       "      <td>Kiên Giang</td>\n",
       "    </tr>\n",
       "  </tbody>\n",
       "</table>\n",
       "<p>1 rows × 52 columns</p>\n",
       "</div>"
      ],
      "text/plain": [
       "   hotel_id                                             name_x  \\\n",
       "0   40415.0  Premier Residences Phu Quoc Emerald Bay Manage...   \n",
       "\n",
       "                                    address  overall_score_OTA  overall_score  \\\n",
       "0  Khem Beach An Thới, Phú Quốc, Kiên Giang           87.70834           88.0   \n",
       "\n",
       "   score_mean  counts_search  counts_click  counts_book  review_score  ...  \\\n",
       "0    87.85417          818.0         950.0         20.0         362.0  ...   \n",
       "\n",
       "   shuttle_room    price_mean  \\\n",
       "0            -1  2.012733e+06   \n",
       "\n",
       "                                      provider_url_1  \\\n",
       "0  https://images.trvl-media.com/hotels/33000000/...   \n",
       "\n",
       "                                      provider_url_2  \\\n",
       "0  https://images.trvl-media.com/hotels/33000000/...   \n",
       "\n",
       "                                      provider_url_3 star_number  \\\n",
       "0  https://images.trvl-media.com/hotels/33000000/...           5   \n",
       "\n",
       "   domain_hotel_id  domain_id       url      name_y  \n",
       "0       32091854.0        4.0  32091854  Kiên Giang  \n",
       "\n",
       "[1 rows x 52 columns]"
      ]
     },
     "execution_count": 23,
     "metadata": {},
     "output_type": "execute_result"
    }
   ],
   "source": [
    "rank.head(1)"
   ]
  },
  {
   "cell_type": "code",
   "execution_count": 24,
   "metadata": {},
   "outputs": [],
   "source": [
    "rank = rank.rename(columns = {'name_x':'name', 'name_y':'province'})"
   ]
  },
  {
   "cell_type": "code",
   "execution_count": 25,
   "metadata": {},
   "outputs": [
    {
     "name": "stdout",
     "output_type": "stream",
     "text": [
      "<class 'pandas.core.frame.DataFrame'>\n",
      "Int64Index: 5224 entries, 0 to 5223\n",
      "Data columns (total 52 columns):\n",
      " #   Column                          Non-Null Count  Dtype  \n",
      "---  ------                          --------------  -----  \n",
      " 0   hotel_id                        5224 non-null   float64\n",
      " 1   name                            5224 non-null   object \n",
      " 2   address                         5224 non-null   object \n",
      " 3   overall_score_OTA               5224 non-null   float64\n",
      " 4   overall_score                   5224 non-null   float64\n",
      " 5   score_mean                      5224 non-null   float64\n",
      " 6   counts_search                   5224 non-null   float64\n",
      " 7   counts_click                    5224 non-null   float64\n",
      " 8   counts_book                     5224 non-null   float64\n",
      " 9   review_score                    5224 non-null   float64\n",
      " 10  SCORE                           5224 non-null   float64\n",
      " 11  province_id                     5224 non-null   float64\n",
      " 12  district_id                     4356 non-null   float64\n",
      " 13  latitude                        5218 non-null   float64\n",
      " 14  longitude                       5218 non-null   float64\n",
      " 15  description                     5080 non-null   object \n",
      " 16  tours                           5224 non-null   int64  \n",
      " 17  night_club                      5224 non-null   int64  \n",
      " 18  relax_spa                       5224 non-null   int64  \n",
      " 19  relax_massage                   5224 non-null   int64  \n",
      " 20  relax_steam_room                5224 non-null   int64  \n",
      " 21  relax_outdoor_room              5224 non-null   int64  \n",
      " 22  relax_outdoor_pool              5224 non-null   int64  \n",
      " 23  relax_sauna                     5224 non-null   int64  \n",
      " 24  relax_pool                      5224 non-null   int64  \n",
      " 25  currency_exchange               5224 non-null   int64  \n",
      " 26  room_service_24_hour            5224 non-null   int64  \n",
      " 27  elevator                        5224 non-null   int64  \n",
      " 28  safely_deposit_boxed            5224 non-null   int64  \n",
      " 29  luggage_storage                 5224 non-null   int64  \n",
      " 30  poolside_bar                    5224 non-null   int64  \n",
      " 31  airport_transfer                5224 non-null   int64  \n",
      " 32  restaurants                     5224 non-null   int64  \n",
      " 33  concierge                       5224 non-null   int64  \n",
      " 34  shops                           5224 non-null   int64  \n",
      " 35  meeting_facilities              5224 non-null   int64  \n",
      " 36  baby_sitting                    5224 non-null   int64  \n",
      " 37  facilities_for_disabled_guests  5224 non-null   int64  \n",
      " 38  private_beach                   5224 non-null   int64  \n",
      " 39  front_desk_24_hour              5224 non-null   int64  \n",
      " 40  bar                             5224 non-null   int64  \n",
      " 41  laundry_service                 5224 non-null   int64  \n",
      " 42  shuttle_room                    5224 non-null   int64  \n",
      " 43  price_mean                      5224 non-null   float64\n",
      " 44  provider_url_1                  5224 non-null   object \n",
      " 45  provider_url_2                  5224 non-null   object \n",
      " 46  provider_url_3                  5224 non-null   object \n",
      " 47  star_number                     5224 non-null   int64  \n",
      " 48  domain_hotel_id                 4151 non-null   float64\n",
      " 49  domain_id                       4151 non-null   float64\n",
      " 50  url                             4151 non-null   object \n",
      " 51  province                        5224 non-null   object \n",
      "dtypes: float64(16), int64(28), object(8)\n",
      "memory usage: 2.1+ MB\n"
     ]
    }
   ],
   "source": [
    "rank.info()"
   ]
  },
  {
   "cell_type": "code",
   "execution_count": 26,
   "metadata": {},
   "outputs": [],
   "source": [
    "t = rank[-rank['url'].isna()]\n",
    "t = t[-t['latitude'].isna()]\n",
    "t = t[-t['description'].isna()]\n",
    "t = t.drop(['district_id'], axis = 1)\n",
    "h = t.sample(n = 4000)"
   ]
  },
  {
   "cell_type": "code",
   "execution_count": 27,
   "metadata": {},
   "outputs": [
    {
     "name": "stdout",
     "output_type": "stream",
     "text": [
      "<class 'pandas.core.frame.DataFrame'>\n",
      "Int64Index: 4000 entries, 1213 to 1412\n",
      "Data columns (total 51 columns):\n",
      " #   Column                          Non-Null Count  Dtype  \n",
      "---  ------                          --------------  -----  \n",
      " 0   hotel_id                        4000 non-null   float64\n",
      " 1   name                            4000 non-null   object \n",
      " 2   address                         4000 non-null   object \n",
      " 3   overall_score_OTA               4000 non-null   float64\n",
      " 4   overall_score                   4000 non-null   float64\n",
      " 5   score_mean                      4000 non-null   float64\n",
      " 6   counts_search                   4000 non-null   float64\n",
      " 7   counts_click                    4000 non-null   float64\n",
      " 8   counts_book                     4000 non-null   float64\n",
      " 9   review_score                    4000 non-null   float64\n",
      " 10  SCORE                           4000 non-null   float64\n",
      " 11  province_id                     4000 non-null   float64\n",
      " 12  latitude                        4000 non-null   float64\n",
      " 13  longitude                       4000 non-null   float64\n",
      " 14  description                     4000 non-null   object \n",
      " 15  tours                           4000 non-null   int64  \n",
      " 16  night_club                      4000 non-null   int64  \n",
      " 17  relax_spa                       4000 non-null   int64  \n",
      " 18  relax_massage                   4000 non-null   int64  \n",
      " 19  relax_steam_room                4000 non-null   int64  \n",
      " 20  relax_outdoor_room              4000 non-null   int64  \n",
      " 21  relax_outdoor_pool              4000 non-null   int64  \n",
      " 22  relax_sauna                     4000 non-null   int64  \n",
      " 23  relax_pool                      4000 non-null   int64  \n",
      " 24  currency_exchange               4000 non-null   int64  \n",
      " 25  room_service_24_hour            4000 non-null   int64  \n",
      " 26  elevator                        4000 non-null   int64  \n",
      " 27  safely_deposit_boxed            4000 non-null   int64  \n",
      " 28  luggage_storage                 4000 non-null   int64  \n",
      " 29  poolside_bar                    4000 non-null   int64  \n",
      " 30  airport_transfer                4000 non-null   int64  \n",
      " 31  restaurants                     4000 non-null   int64  \n",
      " 32  concierge                       4000 non-null   int64  \n",
      " 33  shops                           4000 non-null   int64  \n",
      " 34  meeting_facilities              4000 non-null   int64  \n",
      " 35  baby_sitting                    4000 non-null   int64  \n",
      " 36  facilities_for_disabled_guests  4000 non-null   int64  \n",
      " 37  private_beach                   4000 non-null   int64  \n",
      " 38  front_desk_24_hour              4000 non-null   int64  \n",
      " 39  bar                             4000 non-null   int64  \n",
      " 40  laundry_service                 4000 non-null   int64  \n",
      " 41  shuttle_room                    4000 non-null   int64  \n",
      " 42  price_mean                      4000 non-null   float64\n",
      " 43  provider_url_1                  4000 non-null   object \n",
      " 44  provider_url_2                  4000 non-null   object \n",
      " 45  provider_url_3                  4000 non-null   object \n",
      " 46  star_number                     4000 non-null   int64  \n",
      " 47  domain_hotel_id                 4000 non-null   float64\n",
      " 48  domain_id                       4000 non-null   float64\n",
      " 49  url                             4000 non-null   object \n",
      " 50  province                        4000 non-null   object \n",
      "dtypes: float64(15), int64(28), object(8)\n",
      "memory usage: 1.6+ MB\n"
     ]
    }
   ],
   "source": [
    "h.info()"
   ]
  },
  {
   "cell_type": "code",
   "execution_count": 28,
   "metadata": {},
   "outputs": [],
   "source": [
    "#h.to_csv('./Demo_4k/show_4000.csv', index = False)"
   ]
  }
 ],
 "metadata": {
  "kernelspec": {
   "display_name": "Python 3",
   "language": "python",
   "name": "python3"
  },
  "language_info": {
   "codemirror_mode": {
    "name": "ipython",
    "version": 3
   },
   "file_extension": ".py",
   "mimetype": "text/x-python",
   "name": "python",
   "nbconvert_exporter": "python",
   "pygments_lexer": "ipython3",
   "version": "3.8.3"
  }
 },
 "nbformat": 4,
 "nbformat_minor": 4
}
