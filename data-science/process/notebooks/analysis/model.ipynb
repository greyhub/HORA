{
 "cells": [
  {
   "cell_type": "code",
   "execution_count": 1,
   "metadata": {},
   "outputs": [],
   "source": [
    "import datetime\n",
    "import pandas as pd\n",
    "import numpy as np\n",
    "import matplotlib.pyplot as plt\n",
    "import seaborn as sns\n",
    "%matplotlib inline\n",
    "from sklearn.preprocessing import StandardScaler\n",
    "\n",
    "from sklearn.ensemble import BaggingClassifier\n",
    "from sklearn.ensemble import ExtraTreesClassifier\n",
    "from sklearn.ensemble import AdaBoostClassifier\n",
    "from sklearn.ensemble import GradientBoostingClassifier\n",
    "from sklearn import metrics\n",
    "from sklearn.ensemble import RandomForestClassifier\n",
    "from sklearn.model_selection import train_test_split"
   ]
  },
  {
   "cell_type": "code",
   "execution_count": 2,
   "metadata": {},
   "outputs": [],
   "source": [
    "def get_ensemble_models():\n",
    "    rf =RandomForestClassifier(n_estimators=51,min_samples_leaf=5,min_samples_split=3)\n",
    "    bagg = BaggingClassifier(n_estimators=51,random_state=42)\n",
    "    extra = ExtraTreesClassifier(n_estimators=51,random_state=42)\n",
    "    ada = AdaBoostClassifier(n_estimators=51,random_state=42)\n",
    "    grad = GradientBoostingClassifier(n_estimators=51,random_state=42)\n",
    "    classifier_list = [rf,bagg,extra,ada,grad]\n",
    "    classifier_name_list = ['Random Forests','Bagging','Extra Trees','AdaBoost','Gradient Boost']\n",
    "    return classifier_list,classifier_name_list\n",
    "    \n",
    "def print_evaluation_metrics(trained_model,trained_model_name,X_test,y_test):\n",
    "    print('--------- Model : ', trained_model_name, ' ---------------\\n')\n",
    "    predicted_values = trained_model.predict(X_test)\n",
    "    print(metrics.classification_report(y_test,predicted_values))\n",
    "    print(\"Accuracy Score : \",metrics.accuracy_score(y_test,predicted_values))\n",
    "    print(\"---------------------------------------\\n\")    "
   ]
  },
  {
   "cell_type": "code",
   "execution_count": 3,
   "metadata": {},
   "outputs": [],
   "source": [
    "rank = pd.read_csv(\"./rank.csv\")\n",
    "rank = rank[-rank['latitude'].isna()]"
   ]
  },
  {
   "cell_type": "code",
   "execution_count": 4,
   "metadata": {},
   "outputs": [
    {
     "name": "stdout",
     "output_type": "stream",
     "text": [
      "<class 'pandas.core.frame.DataFrame'>\n",
      "Int64Index: 5218 entries, 0 to 5223\n",
      "Data columns (total 44 columns):\n",
      " #   Column                          Non-Null Count  Dtype  \n",
      "---  ------                          --------------  -----  \n",
      " 0   hotel_id                        5218 non-null   int64  \n",
      " 1   name                            5218 non-null   object \n",
      " 2   address                         5218 non-null   object \n",
      " 3   overall_score_OTA               5218 non-null   float64\n",
      " 4   overall_score                   5218 non-null   float64\n",
      " 5   score_mean                      5218 non-null   float64\n",
      " 6   counts_search                   5218 non-null   int64  \n",
      " 7   counts_click                    5218 non-null   int64  \n",
      " 8   counts_book                     5218 non-null   int64  \n",
      " 9   review_score                    5218 non-null   float64\n",
      " 10  SCORE                           5218 non-null   float64\n",
      " 11  province_id                     5218 non-null   int64  \n",
      " 12  district_id                     4350 non-null   float64\n",
      " 13  latitude                        5218 non-null   float64\n",
      " 14  longitude                       5218 non-null   float64\n",
      " 15  description                     5078 non-null   object \n",
      " 16  tours                           5218 non-null   int64  \n",
      " 17  night_club                      5218 non-null   int64  \n",
      " 18  relax_spa                       5218 non-null   int64  \n",
      " 19  relax_massage                   5218 non-null   int64  \n",
      " 20  relax_steam_room                5218 non-null   int64  \n",
      " 21  relax_outdoor_room              5218 non-null   int64  \n",
      " 22  relax_outdoor_pool              5218 non-null   int64  \n",
      " 23  relax_sauna                     5218 non-null   int64  \n",
      " 24  relax_pool                      5218 non-null   int64  \n",
      " 25  currency_exchange               5218 non-null   int64  \n",
      " 26  room_service_24_hour            5218 non-null   int64  \n",
      " 27  elevator                        5218 non-null   int64  \n",
      " 28  safely_deposit_boxed            5218 non-null   int64  \n",
      " 29  luggage_storage                 5218 non-null   int64  \n",
      " 30  poolside_bar                    5218 non-null   int64  \n",
      " 31  airport_transfer                5218 non-null   int64  \n",
      " 32  restaurants                     5218 non-null   int64  \n",
      " 33  concierge                       5218 non-null   int64  \n",
      " 34  shops                           5218 non-null   int64  \n",
      " 35  meeting_facilities              5218 non-null   int64  \n",
      " 36  baby_sitting                    5218 non-null   int64  \n",
      " 37  facilities_for_disabled_guests  5218 non-null   int64  \n",
      " 38  private_beach                   5218 non-null   int64  \n",
      " 39  front_desk_24_hour              5218 non-null   int64  \n",
      " 40  bar                             5218 non-null   int64  \n",
      " 41  laundry_service                 5218 non-null   int64  \n",
      " 42  shuttle_room                    5218 non-null   int64  \n",
      " 43  price_mean                      5218 non-null   float64\n",
      "dtypes: float64(9), int64(32), object(3)\n",
      "memory usage: 1.8+ MB\n"
     ]
    }
   ],
   "source": [
    "rank.info()"
   ]
  },
  {
   "cell_type": "code",
   "execution_count": 5,
   "metadata": {},
   "outputs": [],
   "source": [
    "test = rank[['counts_search','tours','score_mean','review_score',\n",
    " 'relax_spa',\n",
    " 'currency_exchange',\n",
    " 'safely_deposit_boxed',\n",
    " 'luggage_storage',\n",
    " 'restaurants',\n",
    " 'concierge',\n",
    " 'front_desk_24_hour',\n",
    " 'bar',\n",
    " 'laundry_service',\n",
    " 'price_mean']]"
   ]
  },
  {
   "cell_type": "code",
   "execution_count": 6,
   "metadata": {},
   "outputs": [
    {
     "data": {
      "text/plain": [
       " 1    2444\n",
       "-1    1764\n",
       " 0    1010\n",
       "Name: front_desk_24_hour, dtype: int64"
      ]
     },
     "execution_count": 6,
     "metadata": {},
     "output_type": "execute_result"
    }
   ],
   "source": [
    "rank['front_desk_24_hour'].value_counts()"
   ]
  },
  {
   "cell_type": "code",
   "execution_count": 35,
   "metadata": {},
   "outputs": [
    {
     "name": "stderr",
     "output_type": "stream",
     "text": [
      "C:\\Users\\ADMIN\\anaconda3\\lib\\site-packages\\pandas\\core\\indexing.py:966: SettingWithCopyWarning: \n",
      "A value is trying to be set on a copy of a slice from a DataFrame.\n",
      "Try using .loc[row_indexer,col_indexer] = value instead\n",
      "\n",
      "See the caveats in the documentation: https://pandas.pydata.org/pandas-docs/stable/user_guide/indexing.html#returning-a-view-versus-a-copy\n",
      "  self.obj[item] = s\n"
     ]
    }
   ],
   "source": [
    "mask1 = test['counts_search'] > 0\n",
    "test.loc[mask1,'counts_search'] = 1"
   ]
  },
  {
   "cell_type": "code",
   "execution_count": 36,
   "metadata": {},
   "outputs": [
    {
     "data": {
      "text/html": [
       "<div>\n",
       "<style scoped>\n",
       "    .dataframe tbody tr th:only-of-type {\n",
       "        vertical-align: middle;\n",
       "    }\n",
       "\n",
       "    .dataframe tbody tr th {\n",
       "        vertical-align: top;\n",
       "    }\n",
       "\n",
       "    .dataframe thead th {\n",
       "        text-align: right;\n",
       "    }\n",
       "</style>\n",
       "<table border=\"1\" class=\"dataframe\">\n",
       "  <thead>\n",
       "    <tr style=\"text-align: right;\">\n",
       "      <th></th>\n",
       "      <th>counts_search</th>\n",
       "      <th>tours</th>\n",
       "      <th>score_mean</th>\n",
       "      <th>review_score</th>\n",
       "      <th>relax_spa</th>\n",
       "      <th>currency_exchange</th>\n",
       "      <th>safely_deposit_boxed</th>\n",
       "      <th>luggage_storage</th>\n",
       "      <th>restaurants</th>\n",
       "      <th>concierge</th>\n",
       "      <th>front_desk_24_hour</th>\n",
       "      <th>bar</th>\n",
       "      <th>laundry_service</th>\n",
       "      <th>price_mean</th>\n",
       "    </tr>\n",
       "  </thead>\n",
       "  <tbody>\n",
       "    <tr>\n",
       "      <th>0</th>\n",
       "      <td>1</td>\n",
       "      <td>-1</td>\n",
       "      <td>87.85417</td>\n",
       "      <td>362.000000</td>\n",
       "      <td>-1</td>\n",
       "      <td>-1</td>\n",
       "      <td>-1</td>\n",
       "      <td>-1</td>\n",
       "      <td>-1</td>\n",
       "      <td>-1</td>\n",
       "      <td>1</td>\n",
       "      <td>-1</td>\n",
       "      <td>-1</td>\n",
       "      <td>2.012733e+06</td>\n",
       "    </tr>\n",
       "    <tr>\n",
       "      <th>1</th>\n",
       "      <td>1</td>\n",
       "      <td>1</td>\n",
       "      <td>90.50000</td>\n",
       "      <td>8101.899995</td>\n",
       "      <td>1</td>\n",
       "      <td>1</td>\n",
       "      <td>1</td>\n",
       "      <td>1</td>\n",
       "      <td>1</td>\n",
       "      <td>1</td>\n",
       "      <td>1</td>\n",
       "      <td>1</td>\n",
       "      <td>1</td>\n",
       "      <td>1.537731e+06</td>\n",
       "    </tr>\n",
       "    <tr>\n",
       "      <th>2</th>\n",
       "      <td>1</td>\n",
       "      <td>1</td>\n",
       "      <td>86.00000</td>\n",
       "      <td>216.818182</td>\n",
       "      <td>1</td>\n",
       "      <td>1</td>\n",
       "      <td>1</td>\n",
       "      <td>1</td>\n",
       "      <td>1</td>\n",
       "      <td>1</td>\n",
       "      <td>1</td>\n",
       "      <td>1</td>\n",
       "      <td>1</td>\n",
       "      <td>4.867947e+05</td>\n",
       "    </tr>\n",
       "  </tbody>\n",
       "</table>\n",
       "</div>"
      ],
      "text/plain": [
       "   counts_search  tours  score_mean  review_score  relax_spa  \\\n",
       "0              1     -1    87.85417    362.000000         -1   \n",
       "1              1      1    90.50000   8101.899995          1   \n",
       "2              1      1    86.00000    216.818182          1   \n",
       "\n",
       "   currency_exchange  safely_deposit_boxed  luggage_storage  restaurants  \\\n",
       "0                 -1                    -1               -1           -1   \n",
       "1                  1                     1                1            1   \n",
       "2                  1                     1                1            1   \n",
       "\n",
       "   concierge  front_desk_24_hour  bar  laundry_service    price_mean  \n",
       "0         -1                   1   -1               -1  2.012733e+06  \n",
       "1          1                   1    1                1  1.537731e+06  \n",
       "2          1                   1    1                1  4.867947e+05  "
      ]
     },
     "execution_count": 36,
     "metadata": {},
     "output_type": "execute_result"
    }
   ],
   "source": [
    "test.head(3)"
   ]
  },
  {
   "cell_type": "code",
   "execution_count": 37,
   "metadata": {},
   "outputs": [
    {
     "data": {
      "text/plain": [
       "counts_search\n",
       "0    4187\n",
       "1    1031\n",
       "dtype: int64"
      ]
     },
     "execution_count": 37,
     "metadata": {},
     "output_type": "execute_result"
    }
   ],
   "source": [
    "test.groupby('counts_search').size()"
   ]
  },
  {
   "cell_type": "code",
   "execution_count": 38,
   "metadata": {},
   "outputs": [],
   "source": [
    "X = test.loc[:, test.columns != 'counts_search']\n",
    "y = test.loc[:, test.columns == 'counts_search']"
   ]
  },
  {
   "cell_type": "code",
   "execution_count": 39,
   "metadata": {},
   "outputs": [
    {
     "data": {
      "text/html": [
       "<div>\n",
       "<style scoped>\n",
       "    .dataframe tbody tr th:only-of-type {\n",
       "        vertical-align: middle;\n",
       "    }\n",
       "\n",
       "    .dataframe tbody tr th {\n",
       "        vertical-align: top;\n",
       "    }\n",
       "\n",
       "    .dataframe thead th {\n",
       "        text-align: right;\n",
       "    }\n",
       "</style>\n",
       "<table border=\"1\" class=\"dataframe\">\n",
       "  <thead>\n",
       "    <tr style=\"text-align: right;\">\n",
       "      <th></th>\n",
       "      <th>tours</th>\n",
       "      <th>score_mean</th>\n",
       "      <th>review_score</th>\n",
       "      <th>relax_spa</th>\n",
       "      <th>currency_exchange</th>\n",
       "      <th>safely_deposit_boxed</th>\n",
       "      <th>luggage_storage</th>\n",
       "      <th>restaurants</th>\n",
       "      <th>concierge</th>\n",
       "      <th>front_desk_24_hour</th>\n",
       "      <th>bar</th>\n",
       "      <th>laundry_service</th>\n",
       "      <th>price_mean</th>\n",
       "    </tr>\n",
       "  </thead>\n",
       "  <tbody>\n",
       "    <tr>\n",
       "      <th>0</th>\n",
       "      <td>-1</td>\n",
       "      <td>87.85417</td>\n",
       "      <td>362.000000</td>\n",
       "      <td>-1</td>\n",
       "      <td>-1</td>\n",
       "      <td>-1</td>\n",
       "      <td>-1</td>\n",
       "      <td>-1</td>\n",
       "      <td>-1</td>\n",
       "      <td>1</td>\n",
       "      <td>-1</td>\n",
       "      <td>-1</td>\n",
       "      <td>2.012733e+06</td>\n",
       "    </tr>\n",
       "    <tr>\n",
       "      <th>1</th>\n",
       "      <td>1</td>\n",
       "      <td>90.50000</td>\n",
       "      <td>8101.899995</td>\n",
       "      <td>1</td>\n",
       "      <td>1</td>\n",
       "      <td>1</td>\n",
       "      <td>1</td>\n",
       "      <td>1</td>\n",
       "      <td>1</td>\n",
       "      <td>1</td>\n",
       "      <td>1</td>\n",
       "      <td>1</td>\n",
       "      <td>1.537731e+06</td>\n",
       "    </tr>\n",
       "    <tr>\n",
       "      <th>2</th>\n",
       "      <td>1</td>\n",
       "      <td>86.00000</td>\n",
       "      <td>216.818182</td>\n",
       "      <td>1</td>\n",
       "      <td>1</td>\n",
       "      <td>1</td>\n",
       "      <td>1</td>\n",
       "      <td>1</td>\n",
       "      <td>1</td>\n",
       "      <td>1</td>\n",
       "      <td>1</td>\n",
       "      <td>1</td>\n",
       "      <td>4.867947e+05</td>\n",
       "    </tr>\n",
       "  </tbody>\n",
       "</table>\n",
       "</div>"
      ],
      "text/plain": [
       "   tours  score_mean  review_score  relax_spa  currency_exchange  \\\n",
       "0     -1    87.85417    362.000000         -1                 -1   \n",
       "1      1    90.50000   8101.899995          1                  1   \n",
       "2      1    86.00000    216.818182          1                  1   \n",
       "\n",
       "   safely_deposit_boxed  luggage_storage  restaurants  concierge  \\\n",
       "0                    -1               -1           -1         -1   \n",
       "1                     1                1            1          1   \n",
       "2                     1                1            1          1   \n",
       "\n",
       "   front_desk_24_hour  bar  laundry_service    price_mean  \n",
       "0                   1   -1               -1  2.012733e+06  \n",
       "1                   1    1                1  1.537731e+06  \n",
       "2                   1    1                1  4.867947e+05  "
      ]
     },
     "execution_count": 39,
     "metadata": {},
     "output_type": "execute_result"
    }
   ],
   "source": [
    "X.head(3)"
   ]
  },
  {
   "cell_type": "code",
   "execution_count": 40,
   "metadata": {},
   "outputs": [],
   "source": [
    "X_train, X_test, y_train, y_test = train_test_split(X, y, test_size=0.3, random_state=1)"
   ]
  },
  {
   "cell_type": "code",
   "execution_count": 41,
   "metadata": {},
   "outputs": [
    {
     "name": "stderr",
     "output_type": "stream",
     "text": [
      "<ipython-input-41-03c657c9ca2f>:3: DataConversionWarning: A column-vector y was passed when a 1d array was expected. Please change the shape of y to (n_samples,), for example using ravel().\n",
      "  classifier.fit(X_train,y_train)\n"
     ]
    },
    {
     "name": "stdout",
     "output_type": "stream",
     "text": [
      "--------- Model :  Random Forests  ---------------\n",
      "\n",
      "              precision    recall  f1-score   support\n",
      "\n",
      "           0       0.82      0.97      0.89      1232\n",
      "           1       0.64      0.22      0.32       334\n",
      "\n",
      "    accuracy                           0.81      1566\n",
      "   macro avg       0.73      0.59      0.60      1566\n",
      "weighted avg       0.78      0.81      0.77      1566\n",
      "\n",
      "Accuracy Score :  0.8065134099616859\n",
      "---------------------------------------\n",
      "\n"
     ]
    },
    {
     "name": "stderr",
     "output_type": "stream",
     "text": [
      "C:\\Users\\ADMIN\\anaconda3\\lib\\site-packages\\sklearn\\utils\\validation.py:73: DataConversionWarning: A column-vector y was passed when a 1d array was expected. Please change the shape of y to (n_samples, ), for example using ravel().\n",
      "  return f(**kwargs)\n"
     ]
    },
    {
     "name": "stdout",
     "output_type": "stream",
     "text": [
      "--------- Model :  Bagging  ---------------\n",
      "\n",
      "              precision    recall  f1-score   support\n",
      "\n",
      "           0       0.83      0.94      0.88      1232\n",
      "           1       0.55      0.27      0.36       334\n",
      "\n",
      "    accuracy                           0.80      1566\n",
      "   macro avg       0.69      0.60      0.62      1566\n",
      "weighted avg       0.77      0.80      0.77      1566\n",
      "\n",
      "Accuracy Score :  0.7969348659003831\n",
      "---------------------------------------\n",
      "\n"
     ]
    },
    {
     "name": "stderr",
     "output_type": "stream",
     "text": [
      "<ipython-input-41-03c657c9ca2f>:3: DataConversionWarning: A column-vector y was passed when a 1d array was expected. Please change the shape of y to (n_samples,), for example using ravel().\n",
      "  classifier.fit(X_train,y_train)\n"
     ]
    },
    {
     "name": "stdout",
     "output_type": "stream",
     "text": [
      "--------- Model :  Extra Trees  ---------------\n",
      "\n",
      "              precision    recall  f1-score   support\n",
      "\n",
      "           0       0.83      0.92      0.87      1232\n",
      "           1       0.49      0.30      0.37       334\n",
      "\n",
      "    accuracy                           0.78      1566\n",
      "   macro avg       0.66      0.61      0.62      1566\n",
      "weighted avg       0.76      0.78      0.76      1566\n",
      "\n",
      "Accuracy Score :  0.7848020434227331\n",
      "---------------------------------------\n",
      "\n"
     ]
    },
    {
     "name": "stderr",
     "output_type": "stream",
     "text": [
      "C:\\Users\\ADMIN\\anaconda3\\lib\\site-packages\\sklearn\\utils\\validation.py:73: DataConversionWarning: A column-vector y was passed when a 1d array was expected. Please change the shape of y to (n_samples, ), for example using ravel().\n",
      "  return f(**kwargs)\n"
     ]
    },
    {
     "name": "stdout",
     "output_type": "stream",
     "text": [
      "--------- Model :  AdaBoost  ---------------\n",
      "\n",
      "              precision    recall  f1-score   support\n",
      "\n",
      "           0       0.81      0.96      0.88      1232\n",
      "           1       0.55      0.17      0.26       334\n",
      "\n",
      "    accuracy                           0.79      1566\n",
      "   macro avg       0.68      0.57      0.57      1566\n",
      "weighted avg       0.76      0.79      0.75      1566\n",
      "\n",
      "Accuracy Score :  0.7937420178799489\n",
      "---------------------------------------\n",
      "\n"
     ]
    },
    {
     "name": "stderr",
     "output_type": "stream",
     "text": [
      "C:\\Users\\ADMIN\\anaconda3\\lib\\site-packages\\sklearn\\utils\\validation.py:73: DataConversionWarning: A column-vector y was passed when a 1d array was expected. Please change the shape of y to (n_samples, ), for example using ravel().\n",
      "  return f(**kwargs)\n"
     ]
    },
    {
     "name": "stdout",
     "output_type": "stream",
     "text": [
      "--------- Model :  Gradient Boost  ---------------\n",
      "\n",
      "              precision    recall  f1-score   support\n",
      "\n",
      "           0       0.82      0.96      0.88      1232\n",
      "           1       0.60      0.21      0.31       334\n",
      "\n",
      "    accuracy                           0.80      1566\n",
      "   macro avg       0.71      0.59      0.60      1566\n",
      "weighted avg       0.77      0.80      0.76      1566\n",
      "\n",
      "Accuracy Score :  0.8020434227330779\n",
      "---------------------------------------\n",
      "\n"
     ]
    }
   ],
   "source": [
    "classifier_list, classifier_name_list = get_ensemble_models()\n",
    "for classifier,classifier_name in zip(classifier_list,classifier_name_list):\n",
    "    classifier.fit(X_train,y_train)\n",
    "    print_evaluation_metrics(classifier,classifier_name,X_test,y_test)"
   ]
  },
  {
   "cell_type": "code",
   "execution_count": null,
   "metadata": {},
   "outputs": [],
   "source": []
  }
 ],
 "metadata": {
  "kernelspec": {
   "display_name": "Python 3",
   "language": "python",
   "name": "python3"
  },
  "language_info": {
   "codemirror_mode": {
    "name": "ipython",
    "version": 3
   },
   "file_extension": ".py",
   "mimetype": "text/x-python",
   "name": "python",
   "nbconvert_exporter": "python",
   "pygments_lexer": "ipython3",
   "version": "3.8.5"
  }
 },
 "nbformat": 4,
 "nbformat_minor": 4
}
