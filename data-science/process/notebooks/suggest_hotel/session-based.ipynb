{
 "cells": [
  {
   "cell_type": "code",
   "execution_count": 3,
   "metadata": {},
   "outputs": [],
   "source": [
    "import pandas as pd\n",
    "import datetime\n",
    "import time\n",
    "import matplotlib.pyplot as plt\n",
    "\n",
    "import sqlite3\n",
    "from gensim.models import Word2Vec\n",
    "import multiprocessing\n",
    "import logging"
   ]
  },
  {
   "cell_type": "markdown",
   "metadata": {},
   "source": [
    "# Preprocessing"
   ]
  },
  {
   "cell_type": "code",
   "execution_count": 4,
   "metadata": {},
   "outputs": [
    {
     "name": "stdout",
     "output_type": "stream",
     "text": [
      "BPR.ipynb                    \u001b[0m\u001b[01;34mdata\u001b[0m/           \u001b[01;34mml-100k\u001b[0m/\r\n",
      "BPR.py                       df_cleaned.csv  \u001b[01;31mml-100k.zip\u001b[0m\r\n",
      "\u001b[01;34mcleaned-table\u001b[0m/               df_grouped.csv  PhoeniX_cosine_hotel.csv\r\n",
      "cosine_hotel_500samples.csv  \u001b[01;34mexpedia-hotel\u001b[0m/  plot-sample.ipynb\r\n",
      "cosine_hotel.csv             mapped.ipynb    \u001b[01;34mpublic\u001b[0m/\r\n",
      "cosine_hotel_rank1.csv       mapping.csv     ranking.ipynb\r\n",
      "cosine_hotel_rank1_full.csv  mapping.ipynb   \u001b[01;34mtable\u001b[0m/\r\n"
     ]
    }
   ],
   "source": [
    "ls /home/luongnv/Documents/DataScience/Project-Tripi/data"
   ]
  },
  {
   "cell_type": "code",
   "execution_count": null,
   "metadata": {},
   "outputs": [],
   "source": []
  },
  {
   "cell_type": "markdown",
   "metadata": {},
   "source": [
    "# Training the Model"
   ]
  },
  {
   "cell_type": "code",
   "execution_count": null,
   "metadata": {},
   "outputs": [],
   "source": [
    "DATA_PATH = '/home/luongnv/Documents/DataScience/Project-Tripi/data/public/music-session/spud.sqlite'\n",
    "\n",
    "spud = sqlite3.connect(DATA_PATH)\n",
    "cur = spud.cursor()\n",
    "cur.execute('SELECT name FROM sqlite_master WHERE type=\"table\";')\n",
    "cur.fetchall()"
   ]
  },
  {
   "cell_type": "code",
   "execution_count": null,
   "metadata": {},
   "outputs": [],
   "source": [
    "dataset = pd.read_sql('SELECT \\\n",
    "    l.user AS user_id, \\\n",
    "    l.date AS listen_date, \\\n",
    "    t.trackid AS track_id, \\\n",
    "    t.title AS track_title, \\\n",
    "    a.artistid AS artist_id, \\\n",
    "    a.name AS artist_name, \\\n",
    "    m.albumid AS album_id, \\\n",
    "    m.name AS album_name, \\\n",
    "    m.artist AS album_artist \\\n",
    "  FROM lastfmtracklistens AS l \\\n",
    "  INNER JOIN tracks t ON l.track = t.trackid \\\n",
    "  INNER JOIN artists a ON t.artist = a.artistid \\\n",
    "  INNER JOIN albums m ON t.album = m.albumid;', con=spud)\n",
    "\n",
    "print(dataset.shape)"
   ]
  },
  {
   "cell_type": "code",
   "execution_count": null,
   "metadata": {},
   "outputs": [],
   "source": [
    "dataset.sample(10)"
   ]
  },
  {
   "cell_type": "code",
   "execution_count": null,
   "metadata": {},
   "outputs": [],
   "source": [
    "dataset['listen_date'] = dataset['listen_date'].apply(lambda s: datetime.datetime.strptime(s, '%Y-%m-%d %H:%M:%S+00:00'))\n",
    "dataset.sort_values('listen_date', ascending=True, inplace=True)"
   ]
  },
  {
   "cell_type": "code",
   "execution_count": null,
   "metadata": {},
   "outputs": [],
   "source": [
    "_ = plt.hist(dataset[\"track_id\"].value_counts().values, bins=50, range=(0, 50))"
   ]
  },
  {
   "cell_type": "code",
   "execution_count": null,
   "metadata": {},
   "outputs": [],
   "source": [
    "start = time.time()\n",
    "sessions = []\n",
    "for user_id, df in dataset.groupby('user_id', sort=False):\n",
    "    session = []\n",
    "    for index, row in df.iterrows():\n",
    "        session.append(str(row['track_id']))\n",
    "  \n",
    "    sessions.append(session)\n",
    "    \n",
    "print(\"Took {}'s\".format(time.time() - start))\n",
    "\n",
    "print(sessions[0])"
   ]
  },
  {
   "cell_type": "code",
   "execution_count": null,
   "metadata": {},
   "outputs": [],
   "source": [
    "def make_ngrams(session, n=5):\n",
    "    return list(zip(*[session[i:] for i in range(n)]))"
   ]
  },
  {
   "cell_type": "code",
   "execution_count": null,
   "metadata": {},
   "outputs": [],
   "source": [
    "gen_sessions = []\n",
    "for session in sessions:\n",
    "    gen_sessions.extend(make_ngrams(session, 11))\n",
    "\n",
    "print(len(gen_sessions))"
   ]
  },
  {
   "cell_type": "code",
   "execution_count": null,
   "metadata": {},
   "outputs": [],
   "source": [
    "logging.basicConfig(format='%(asctime)s - %(name)s - %(levelname)s - %(message)s', level=logging.INFO)\n",
    "logging.root.level = logging.INFO"
   ]
  },
  {
   "cell_type": "code",
   "execution_count": null,
   "metadata": {},
   "outputs": [],
   "source": [
    "model = Word2Vec(\n",
    "    gen_sessions,\n",
    "    size=32,            # Vector dimensions\n",
    "    window=5,           # Sliding window size\n",
    "    sg=1,               # Use the skip gram model\n",
    "    hs=0,               # Use negative sampling\n",
    "    negative=20,        # Number of negative samples\n",
    "    ns_exponent=-0.5,   # Unigram distribution's exponent\n",
    "    sample=1e-4,        # Subsampling rate\n",
    "    workers=(2 * multiprocessing.cpu_count() + 1),\n",
    "    iter=5\n",
    ")\n",
    "model.save(\"music_session.model\")"
   ]
  },
  {
   "cell_type": "markdown",
   "metadata": {},
   "source": [
    "# Exploring the Model"
   ]
  },
  {
   "cell_type": "markdown",
   "metadata": {},
   "source": [
    "## Most similar to:"
   ]
  },
  {
   "cell_type": "code",
   "execution_count": null,
   "metadata": {},
   "outputs": [],
   "source": [
    "w2v_model.wv.most_similar(positive=[\"homer\"])"
   ]
  },
  {
   "cell_type": "markdown",
   "metadata": {},
   "source": [
    "## Similarities:"
   ]
  },
  {
   "cell_type": "code",
   "execution_count": null,
   "metadata": {},
   "outputs": [],
   "source": [
    "w2v_model.wv.similarity(\"moe_'s\", 'tavern')"
   ]
  }
 ],
 "metadata": {
  "kernelspec": {
   "display_name": "Python 3",
   "language": "python",
   "name": "python3"
  },
  "language_info": {
   "codemirror_mode": {
    "name": "ipython",
    "version": 3
   },
   "file_extension": ".py",
   "mimetype": "text/x-python",
   "name": "python",
   "nbconvert_exporter": "python",
   "pygments_lexer": "ipython3",
   "version": "3.8.3"
  }
 },
 "nbformat": 4,
 "nbformat_minor": 4
}
