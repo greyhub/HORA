{
 "cells": [
  {
   "cell_type": "code",
   "execution_count": 1,
   "metadata": {},
   "outputs": [],
   "source": [
    "import datetime\n",
    "import pandas as pd\n",
    "import numpy as np\n",
    "import matplotlib.pyplot as plt\n",
    "import seaborn as sns\n",
    "%matplotlib inline\n",
    "from sklearn.preprocessing import StandardScaler\n",
    "from sklearn.linear_model import LogisticRegression\n",
    "from sklearn.linear_model import LinearRegression\n",
    "import xgboost as xgb\n",
    "from sklearn.ensemble import BaggingClassifier\n",
    "from sklearn.ensemble import ExtraTreesClassifier\n",
    "from sklearn.ensemble import AdaBoostClassifier\n",
    "from sklearn.ensemble import GradientBoostingClassifier\n",
    "from sklearn import metrics\n",
    "from sklearn.ensemble import RandomForestClassifier\n",
    "from sklearn.model_selection import train_test_split"
   ]
  },
  {
   "cell_type": "code",
   "execution_count": 2,
   "metadata": {},
   "outputs": [],
   "source": [
    "def models():\n",
    "    #linear = LinearRegression()\n",
    "    lg = LogisticRegression()\n",
    "    xgb_model = xgb.XGBClassifier( objective=\"binary:logistic\",random_state=42)\n",
    "    rf =RandomForestClassifier(n_estimators=51,min_samples_leaf=5,min_samples_split=3)\n",
    "    bagg = BaggingClassifier(n_estimators=51,random_state=42)\n",
    "    extra = ExtraTreesClassifier(n_estimators=51,random_state=42)\n",
    "    ada = AdaBoostClassifier(n_estimators=51,random_state=42)\n",
    "    grad = GradientBoostingClassifier(n_estimators=51,random_state=42)\n",
    "    classifier_list = [lg, xgb_model,rf,bagg,extra,ada,grad]\n",
    "    classifier_name_list = ['Logistic Regression','XGBoost','Random Forests','Bagging','Extra Trees','AdaBoost','Gradient Boost']\n",
    "    return classifier_list,classifier_name_list\n",
    "    \n",
    "def print_evaluation_metrics(trained_model,trained_model_name,X_test,y_test):\n",
    "    print('--------- Model : ', trained_model_name, ' ---------------\\n')\n",
    "    predicted_values = trained_model.predict(X_test)\n",
    "    print(metrics.classification_report(y_test,predicted_values))\n",
    "    print(\"Accuracy Score : \",metrics.accuracy_score(y_test,predicted_values))\n",
    "    print(\"---------------------------------------\\n\")    "
   ]
  },
  {
   "cell_type": "code",
   "execution_count": 3,
   "metadata": {},
   "outputs": [],
   "source": [
    "rank = pd.read_csv('./Train_11k/rank_11.csv')\n",
    "rank = rank[-rank['latitude'].isna()]"
   ]
  },
  {
   "cell_type": "code",
   "execution_count": 4,
   "metadata": {},
   "outputs": [
    {
     "name": "stdout",
     "output_type": "stream",
     "text": [
      "<class 'pandas.core.frame.DataFrame'>\n",
      "Int64Index: 10955 entries, 0 to 10968\n",
      "Data columns (total 43 columns):\n",
      " #   Column                          Non-Null Count  Dtype  \n",
      "---  ------                          --------------  -----  \n",
      " 0   hotel_id                        10955 non-null  float64\n",
      " 1   name                            10955 non-null  object \n",
      " 2   address                         10955 non-null  object \n",
      " 3   overall_score_OTA               9179 non-null   float64\n",
      " 4   overall_score                   9686 non-null   float64\n",
      " 5   counts_search                   10955 non-null  float64\n",
      " 6   counts_click                    10955 non-null  float64\n",
      " 7   counts_book                     10955 non-null  float64\n",
      " 8   province_id                     10955 non-null  float64\n",
      " 9   district_id                     9169 non-null   float64\n",
      " 10  latitude                        10955 non-null  float64\n",
      " 11  longitude                       10955 non-null  float64\n",
      " 12  description                     10740 non-null  object \n",
      " 13  tours                           10955 non-null  int64  \n",
      " 14  night_club                      10955 non-null  int64  \n",
      " 15  relax_spa                       10955 non-null  int64  \n",
      " 16  relax_massage                   10955 non-null  int64  \n",
      " 17  relax_steam_room                10955 non-null  int64  \n",
      " 18  relax_outdoor_room              10955 non-null  int64  \n",
      " 19  relax_outdoor_pool              10955 non-null  int64  \n",
      " 20  relax_sauna                     10955 non-null  int64  \n",
      " 21  relax_pool                      10955 non-null  int64  \n",
      " 22  currency_exchange               10955 non-null  int64  \n",
      " 23  room_service_24_hour            10955 non-null  int64  \n",
      " 24  elevator                        10955 non-null  int64  \n",
      " 25  safely_deposit_boxed            10955 non-null  int64  \n",
      " 26  luggage_storage                 10955 non-null  int64  \n",
      " 27  poolside_bar                    10955 non-null  int64  \n",
      " 28  airport_transfer                10955 non-null  int64  \n",
      " 29  restaurants                     10955 non-null  int64  \n",
      " 30  concierge                       10955 non-null  int64  \n",
      " 31  shops                           10955 non-null  int64  \n",
      " 32  meeting_facilities              10955 non-null  int64  \n",
      " 33  baby_sitting                    10955 non-null  int64  \n",
      " 34  facilities_for_disabled_guests  10955 non-null  int64  \n",
      " 35  private_beach                   10955 non-null  int64  \n",
      " 36  front_desk_24_hour              10955 non-null  int64  \n",
      " 37  bar                             10955 non-null  int64  \n",
      " 38  laundry_service                 10955 non-null  int64  \n",
      " 39  shuttle_room                    10955 non-null  int64  \n",
      " 40  price_mean                      8774 non-null   float64\n",
      " 41  star_number                     10955 non-null  int64  \n",
      " 42  num_reviews                     8787 non-null   float64\n",
      "dtypes: float64(12), int64(28), object(3)\n",
      "memory usage: 3.7+ MB\n"
     ]
    }
   ],
   "source": [
    "rank.info()"
   ]
  },
  {
   "cell_type": "code",
   "execution_count": 5,
   "metadata": {},
   "outputs": [],
   "source": [
    "cols = ['tours', 'night_club', 'relax_spa', 'relax_massage', 'relax_steam_room', 'relax_outdoor_room',\n",
    "        'relax_outdoor_pool', 'relax_sauna', 'relax_pool', 'currency_exchange',\n",
    "       'room_service_24_hour', 'elevator', 'safely_deposit_boxed',\n",
    "       'luggage_storage', 'poolside_bar', 'airport_transfer', 'restaurants',\n",
    "       'concierge', 'shops', 'meeting_facilities', 'baby_sitting',\n",
    "       'facilities_for_disabled_guests', 'private_beach', 'front_desk_24_hour',\n",
    "       'bar', 'laundry_service', 'shuttle_room', 'price_mean']"
   ]
  },
  {
   "cell_type": "code",
   "execution_count": 6,
   "metadata": {},
   "outputs": [
    {
     "data": {
      "text/plain": [
       "['0% not info of price_mean',\n",
       " '100% not info of relax_outdoor_room',\n",
       " '100% not info of relax_pool',\n",
       " '22% not info of laundry_service',\n",
       " '24% not info of luggage_storage',\n",
       " '27% not info of tours',\n",
       " '29% not info of concierge',\n",
       " '31% not info of currency_exchange',\n",
       " '32% not info of front_desk_24_hour',\n",
       " '33% not info of safely_deposit_boxed',\n",
       " '35% not info of bar',\n",
       " '39% not info of restaurants',\n",
       " '40% not info of relax_spa',\n",
       " '46% not info of airport_transfer',\n",
       " '46% not info of elevator',\n",
       " '46% not info of meeting_facilities',\n",
       " '46% not info of private_beach',\n",
       " '50% not info of room_service_24_hour',\n",
       " '52% not info of relax_massage',\n",
       " '60% not info of facilities_for_disabled_guests',\n",
       " '62% not info of relax_outdoor_pool',\n",
       " '68% not info of relax_steam_room',\n",
       " '69% not info of baby_sitting',\n",
       " '71% not info of relax_sauna',\n",
       " '74% not info of shops',\n",
       " '94% not info of poolside_bar',\n",
       " '97% not info of night_club',\n",
       " '98% not info of shuttle_room']"
      ]
     },
     "execution_count": 6,
     "metadata": {},
     "output_type": "execute_result"
    }
   ],
   "source": [
    "arr = []\n",
    "new_cols = []\n",
    "for col in cols:\n",
    "    x = rank[[col]].shape[0]\n",
    "    y = rank[rank[col] == -1][col].count()\n",
    "    percent = 100*y // x\n",
    "    string = str(percent) + '% not info of ' + col\n",
    "    arr.append(string)\n",
    "    \n",
    "    if percent <= 40:\n",
    "        new_cols.append(col)\n",
    "        \n",
    "arr.sort()\n",
    "arr"
   ]
  },
  {
   "cell_type": "code",
   "execution_count": 7,
   "metadata": {},
   "outputs": [
    {
     "data": {
      "text/plain": [
       "['tours',\n",
       " 'relax_spa',\n",
       " 'currency_exchange',\n",
       " 'safely_deposit_boxed',\n",
       " 'luggage_storage',\n",
       " 'restaurants',\n",
       " 'concierge',\n",
       " 'front_desk_24_hour',\n",
       " 'bar',\n",
       " 'laundry_service',\n",
       " 'price_mean']"
      ]
     },
     "execution_count": 7,
     "metadata": {},
     "output_type": "execute_result"
    }
   ],
   "source": [
    "new_cols"
   ]
  },
  {
   "cell_type": "code",
   "execution_count": 39,
   "metadata": {},
   "outputs": [],
   "source": [
    "df = rank[['counts_click','tours', 'relax_spa','currency_exchange',\n",
    " 'safely_deposit_boxed', 'luggage_storage', 'restaurants', 'concierge',\n",
    " 'front_desk_24_hour', 'bar', 'laundry_service', 'price_mean']]"
   ]
  },
  {
   "cell_type": "code",
   "execution_count": 40,
   "metadata": {},
   "outputs": [
    {
     "name": "stderr",
     "output_type": "stream",
     "text": [
      "<ipython-input-40-17eb1800b803>:1: SettingWithCopyWarning: \n",
      "A value is trying to be set on a copy of a slice from a DataFrame.\n",
      "Try using .loc[row_indexer,col_indexer] = value instead\n",
      "\n",
      "See the caveats in the documentation: https://pandas.pydata.org/pandas-docs/stable/user_guide/indexing.html#returning-a-view-versus-a-copy\n",
      "  df['price_mean'] = df['price_mean'].fillna(df['price_mean'].mean())\n"
     ]
    }
   ],
   "source": [
    "df['price_mean'] = df['price_mean'].fillna(df['price_mean'].mean())"
   ]
  },
  {
   "cell_type": "code",
   "execution_count": 41,
   "metadata": {},
   "outputs": [
    {
     "name": "stderr",
     "output_type": "stream",
     "text": [
      "C:\\Users\\ADMIN\\anaconda3\\lib\\site-packages\\pandas\\core\\indexing.py:966: SettingWithCopyWarning: \n",
      "A value is trying to be set on a copy of a slice from a DataFrame.\n",
      "Try using .loc[row_indexer,col_indexer] = value instead\n",
      "\n",
      "See the caveats in the documentation: https://pandas.pydata.org/pandas-docs/stable/user_guide/indexing.html#returning-a-view-versus-a-copy\n",
      "  self.obj[item] = s\n"
     ]
    }
   ],
   "source": [
    "mask1 = df['counts_click'] > 0\n",
    "df.loc[mask1,'counts_click'] = 1"
   ]
  },
  {
   "cell_type": "code",
   "execution_count": 42,
   "metadata": {},
   "outputs": [
    {
     "data": {
      "text/plain": [
       "counts_click\n",
       "0.0    8370\n",
       "1.0    2585\n",
       "dtype: int64"
      ]
     },
     "execution_count": 42,
     "metadata": {},
     "output_type": "execute_result"
    }
   ],
   "source": [
    "df.groupby('counts_click').size()"
   ]
  },
  {
   "cell_type": "code",
   "execution_count": 46,
   "metadata": {},
   "outputs": [],
   "source": [
    "X = df.loc[:, df.columns != 'counts_click']\n",
    "y = df.loc[:, df.columns == 'counts_click']"
   ]
  },
  {
   "cell_type": "code",
   "execution_count": 47,
   "metadata": {},
   "outputs": [],
   "source": [
    "X_train, X_test, y_train, y_test = train_test_split(X, y, test_size=0.3, random_state=1)"
   ]
  },
  {
   "cell_type": "code",
   "execution_count": 48,
   "metadata": {},
   "outputs": [
    {
     "name": "stderr",
     "output_type": "stream",
     "text": [
      "C:\\Users\\ADMIN\\anaconda3\\lib\\site-packages\\sklearn\\utils\\validation.py:73: DataConversionWarning: A column-vector y was passed when a 1d array was expected. Please change the shape of y to (n_samples, ), for example using ravel().\n",
      "  return f(**kwargs)\n",
      "C:\\Users\\ADMIN\\anaconda3\\lib\\site-packages\\sklearn\\metrics\\_classification.py:1221: UndefinedMetricWarning: Precision and F-score are ill-defined and being set to 0.0 in labels with no predicted samples. Use `zero_division` parameter to control this behavior.\n",
      "  _warn_prf(average, modifier, msg_start, len(result))\n",
      "C:\\Users\\ADMIN\\anaconda3\\lib\\site-packages\\sklearn\\utils\\validation.py:73: DataConversionWarning: A column-vector y was passed when a 1d array was expected. Please change the shape of y to (n_samples, ), for example using ravel().\n",
      "  return f(**kwargs)\n"
     ]
    },
    {
     "name": "stdout",
     "output_type": "stream",
     "text": [
      "--------- Model :  Logistic Regression  ---------------\n",
      "\n",
      "              precision    recall  f1-score   support\n",
      "\n",
      "         0.0       0.75      1.00      0.86      2471\n",
      "         1.0       0.00      0.00      0.00       816\n",
      "\n",
      "    accuracy                           0.75      3287\n",
      "   macro avg       0.38      0.50      0.43      3287\n",
      "weighted avg       0.57      0.75      0.65      3287\n",
      "\n",
      "Accuracy Score :  0.7517493154852449\n",
      "---------------------------------------\n",
      "\n",
      "--------- Model :  XGBoost  ---------------\n",
      "\n",
      "              precision    recall  f1-score   support\n",
      "\n",
      "         0.0       0.79      0.94      0.86      2471\n",
      "         1.0       0.56      0.24      0.34       816\n",
      "\n",
      "    accuracy                           0.76      3287\n",
      "   macro avg       0.67      0.59      0.60      3287\n",
      "weighted avg       0.73      0.76      0.73      3287\n",
      "\n",
      "Accuracy Score :  0.7645269242470337\n",
      "---------------------------------------\n",
      "\n"
     ]
    },
    {
     "name": "stderr",
     "output_type": "stream",
     "text": [
      "<ipython-input-48-58d56bda65e9>:3: DataConversionWarning: A column-vector y was passed when a 1d array was expected. Please change the shape of y to (n_samples,), for example using ravel().\n",
      "  classifier.fit(X_train,y_train)\n"
     ]
    },
    {
     "name": "stdout",
     "output_type": "stream",
     "text": [
      "--------- Model :  Random Forests  ---------------\n",
      "\n",
      "              precision    recall  f1-score   support\n",
      "\n",
      "         0.0       0.78      0.96      0.86      2471\n",
      "         1.0       0.60      0.20      0.30       816\n",
      "\n",
      "    accuracy                           0.77      3287\n",
      "   macro avg       0.69      0.58      0.58      3287\n",
      "weighted avg       0.74      0.77      0.72      3287\n",
      "\n",
      "Accuracy Score :  0.7681776696075449\n",
      "---------------------------------------\n",
      "\n"
     ]
    },
    {
     "name": "stderr",
     "output_type": "stream",
     "text": [
      "C:\\Users\\ADMIN\\anaconda3\\lib\\site-packages\\sklearn\\utils\\validation.py:73: DataConversionWarning: A column-vector y was passed when a 1d array was expected. Please change the shape of y to (n_samples, ), for example using ravel().\n",
      "  return f(**kwargs)\n"
     ]
    },
    {
     "name": "stdout",
     "output_type": "stream",
     "text": [
      "--------- Model :  Bagging  ---------------\n",
      "\n",
      "              precision    recall  f1-score   support\n",
      "\n",
      "         0.0       0.79      0.90      0.84      2471\n",
      "         1.0       0.47      0.27      0.34       816\n",
      "\n",
      "    accuracy                           0.74      3287\n",
      "   macro avg       0.63      0.58      0.59      3287\n",
      "weighted avg       0.71      0.74      0.72      3287\n",
      "\n",
      "Accuracy Score :  0.7417097657438394\n",
      "---------------------------------------\n",
      "\n"
     ]
    },
    {
     "name": "stderr",
     "output_type": "stream",
     "text": [
      "<ipython-input-48-58d56bda65e9>:3: DataConversionWarning: A column-vector y was passed when a 1d array was expected. Please change the shape of y to (n_samples,), for example using ravel().\n",
      "  classifier.fit(X_train,y_train)\n"
     ]
    },
    {
     "name": "stdout",
     "output_type": "stream",
     "text": [
      "--------- Model :  Extra Trees  ---------------\n",
      "\n",
      "              precision    recall  f1-score   support\n",
      "\n",
      "         0.0       0.79      0.83      0.81      2471\n",
      "         1.0       0.39      0.32      0.35       816\n",
      "\n",
      "    accuracy                           0.70      3287\n",
      "   macro avg       0.59      0.58      0.58      3287\n",
      "weighted avg       0.69      0.70      0.70      3287\n",
      "\n",
      "Accuracy Score :  0.7042896257986005\n",
      "---------------------------------------\n",
      "\n"
     ]
    },
    {
     "name": "stderr",
     "output_type": "stream",
     "text": [
      "C:\\Users\\ADMIN\\anaconda3\\lib\\site-packages\\sklearn\\utils\\validation.py:73: DataConversionWarning: A column-vector y was passed when a 1d array was expected. Please change the shape of y to (n_samples, ), for example using ravel().\n",
      "  return f(**kwargs)\n"
     ]
    },
    {
     "name": "stdout",
     "output_type": "stream",
     "text": [
      "--------- Model :  AdaBoost  ---------------\n",
      "\n",
      "              precision    recall  f1-score   support\n",
      "\n",
      "         0.0       0.77      0.98      0.86      2471\n",
      "         1.0       0.64      0.13      0.21       816\n",
      "\n",
      "    accuracy                           0.77      3287\n",
      "   macro avg       0.71      0.55      0.54      3287\n",
      "weighted avg       0.74      0.77      0.70      3287\n",
      "\n",
      "Accuracy Score :  0.7657438393672041\n",
      "---------------------------------------\n",
      "\n"
     ]
    },
    {
     "name": "stderr",
     "output_type": "stream",
     "text": [
      "C:\\Users\\ADMIN\\anaconda3\\lib\\site-packages\\sklearn\\utils\\validation.py:73: DataConversionWarning: A column-vector y was passed when a 1d array was expected. Please change the shape of y to (n_samples, ), for example using ravel().\n",
      "  return f(**kwargs)\n"
     ]
    },
    {
     "name": "stdout",
     "output_type": "stream",
     "text": [
      "--------- Model :  Gradient Boost  ---------------\n",
      "\n",
      "              precision    recall  f1-score   support\n",
      "\n",
      "         0.0       0.78      0.97      0.86      2471\n",
      "         1.0       0.63      0.18      0.28       816\n",
      "\n",
      "    accuracy                           0.77      3287\n",
      "   macro avg       0.71      0.57      0.57      3287\n",
      "weighted avg       0.74      0.77      0.72      3287\n",
      "\n",
      "Accuracy Score :  0.7706114998478856\n",
      "---------------------------------------\n",
      "\n"
     ]
    }
   ],
   "source": [
    "classifier_list, classifier_name_list = models()\n",
    "for classifier,classifier_name in zip(classifier_list,classifier_name_list):\n",
    "    classifier.fit(X_train,y_train)\n",
    "    print_evaluation_metrics(classifier,classifier_name,X_test,y_test)"
   ]
  },
  {
   "cell_type": "code",
   "execution_count": null,
   "metadata": {},
   "outputs": [],
   "source": []
  }
 ],
 "metadata": {
  "kernelspec": {
   "display_name": "Python 3",
   "language": "python",
   "name": "python3"
  },
  "language_info": {
   "codemirror_mode": {
    "name": "ipython",
    "version": 3
   },
   "file_extension": ".py",
   "mimetype": "text/x-python",
   "name": "python",
   "nbconvert_exporter": "python",
   "pygments_lexer": "ipython3",
   "version": "3.8.3"
  }
 },
 "nbformat": 4,
 "nbformat_minor": 4
}
