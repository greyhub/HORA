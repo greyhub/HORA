{
 "cells": [
  {
   "cell_type": "code",
   "execution_count": 1,
   "metadata": {},
   "outputs": [],
   "source": [
    "import numpy as np # linear algebra\n",
    "import pandas as pd # data processing, CSV file I/O (e.g. pd.read_csv)\n",
    "\n",
    "from subprocess import check_output\n",
    "\n",
    "import ml_metrics as metrics"
   ]
  },
  {
   "cell_type": "code",
   "execution_count": 2,
   "metadata": {},
   "outputs": [
    {
     "name": "stdout",
     "output_type": "stream",
     "text": [
      "Answer= [1] predicted= [1, 2, 3, 4, 5]\n",
      "AP@5 = 1.0\n",
      "Answer= [1] predicted= [2, 1, 3, 4, 5]\n",
      "AP@5 = 0.5\n",
      "Answer= [1] predicted= [3, 2, 1, 4, 5]\n",
      "AP@5 = 0.3333333333333333\n",
      "Answer= [1] predicted= [4, 2, 3, 1, 5]\n",
      "AP@5 = 0.25\n",
      "Answer= [1] predicted= [4, 2, 3, 5, 1]\n",
      "AP@5 = 0.2\n"
     ]
    }
   ],
   "source": [
    "actual = [1]\n",
    "\n",
    "predicted = [1,2,3,4,5]\n",
    "\n",
    "print('Answer=',actual,'predicted=',predicted)\n",
    "print('AP@5 =',metrics.apk(actual,predicted,5) )\n",
    "\n",
    "predicted = [2,1,3,4,5]\n",
    "print('Answer=',actual,'predicted=',predicted)\n",
    "print('AP@5 =',metrics.apk(actual,predicted,5) )\n",
    "\n",
    "predicted = [3,2,1,4,5]\n",
    "print('Answer=',actual,'predicted=',predicted)\n",
    "print('AP@5 =',metrics.apk(actual,predicted,5) )\n",
    "\n",
    "predicted = [4,2,3,1,5]\n",
    "print('Answer=',actual,'predicted=',predicted)\n",
    "print('AP@5 =',metrics.apk(actual,predicted,5) )\n",
    "\n",
    "predicted = [4,2,3,5,1]\n",
    "print('Answer=',actual,'predicted=',predicted)\n",
    "print('AP@5 =',metrics.apk(actual,predicted,5) )"
   ]
  },
  {
   "cell_type": "code",
   "execution_count": 3,
   "metadata": {},
   "outputs": [
    {
     "data": {
      "text/plain": [
       "0.45666666666666667"
      ]
     },
     "execution_count": 3,
     "metadata": {},
     "output_type": "execute_result"
    }
   ],
   "source": [
    "metrics.mapk([[1],[1],[1],[1],[1]],[[1,2,3,4,5],[2,1,3,4,5],[3,2,1,4,5],[4,2,3,1,5],[4,2,3,5,1]], 5)"
   ]
  },
  {
   "cell_type": "code",
   "execution_count": 4,
   "metadata": {},
   "outputs": [],
   "source": [
    "import pandas as pd\n",
    "import datetime\n",
    "import time\n",
    "import matplotlib.pyplot as plt\n",
    "import sqlite3\n",
    "\n",
    "from gensim.models import Word2Vec\n",
    "import multiprocessing"
   ]
  },
  {
   "cell_type": "code",
   "execution_count": 5,
   "metadata": {},
   "outputs": [
    {
     "name": "stdout",
     "output_type": "stream",
     "text": [
      "../../models/hotel_session.model\r\n"
     ]
    }
   ],
   "source": [
    "ls '../../models/hotel_session.model'"
   ]
  },
  {
   "cell_type": "code",
   "execution_count": 6,
   "metadata": {},
   "outputs": [],
   "source": [
    "import logging\n",
    "logging.basicConfig(format='%(asctime)s - %(name)s - %(levelname)s - %(message)s', level=logging.INFO)\n",
    "logging.root.level = logging.INFO"
   ]
  },
  {
   "cell_type": "code",
   "execution_count": 7,
   "metadata": {},
   "outputs": [
    {
     "name": "stderr",
     "output_type": "stream",
     "text": [
      "2020-12-03 15:10:41,785 - gensim.utils - INFO - loading Word2Vec object from ../../models/hotel_session.model\n",
      "2020-12-03 15:10:41,963 - gensim.utils - INFO - loading wv recursively from ../../models/hotel_session.model.wv.* with mmap=None\n",
      "2020-12-03 15:10:41,990 - gensim.utils - INFO - setting ignored attribute vectors_norm to None\n",
      "2020-12-03 15:10:41,996 - gensim.utils - INFO - loading vocabulary recursively from ../../models/hotel_session.model.vocabulary.* with mmap=None\n",
      "2020-12-03 15:10:42,004 - gensim.utils - INFO - loading trainables recursively from ../../models/hotel_session.model.trainables.* with mmap=None\n",
      "2020-12-03 15:10:42,007 - gensim.utils - INFO - setting ignored attribute cum_table to None\n",
      "2020-12-03 15:10:42,011 - gensim.utils - INFO - loaded ../../models/hotel_session.model\n"
     ]
    }
   ],
   "source": [
    "model = Word2Vec.load('../../models/hotel_session.model')"
   ]
  },
  {
   "cell_type": "code",
   "execution_count": 8,
   "metadata": {},
   "outputs": [],
   "source": [
    "item = list(model.wv.vocab.keys())"
   ]
  },
  {
   "cell_type": "code",
   "execution_count": 9,
   "metadata": {},
   "outputs": [],
   "source": [
    "n = 5\n",
    "cur_session = []\n",
    "for i in range(n):\n",
    "    cur_session.append(item[i])\n",
    "\n",
    "cur_session\n",
    "test = ['9303', '7852', '22757']"
   ]
  },
  {
   "cell_type": "code",
   "execution_count": 10,
   "metadata": {},
   "outputs": [
    {
     "name": "stderr",
     "output_type": "stream",
     "text": [
      "2020-12-03 15:10:43,008 - gensim.models.keyedvectors - INFO - precomputing L2-norms of word weight vectors\n"
     ]
    },
    {
     "data": {
      "text/plain": [
       "[('40369', 0.6189930438995361),\n",
       " ('29738', 0.6055843830108643),\n",
       " ('35118', 0.5787166953086853),\n",
       " ('983', 0.5657873749732971),\n",
       " ('8317', 0.5533974766731262)]"
      ]
     },
     "execution_count": 10,
     "metadata": {},
     "output_type": "execute_result"
    }
   ],
   "source": [
    "model.wv.most_similar(test)[:5]"
   ]
  },
  {
   "cell_type": "code",
   "execution_count": 11,
   "metadata": {},
   "outputs": [
    {
     "data": {
      "text/plain": [
       "['45005',\n",
       " '43280',\n",
       " '29494',\n",
       " '45477',\n",
       " '40454',\n",
       " '34',\n",
       " '40412',\n",
       " '40415',\n",
       " '45572',\n",
       " '436',\n",
       " '22410',\n",
       " '41571',\n",
       " '45078',\n",
       " '45545',\n",
       " '40431',\n",
       " '4859',\n",
       " '41307',\n",
       " '41176',\n",
       " '22235',\n",
       " '38447',\n",
       " '9627',\n",
       " '35365',\n",
       " '996',\n",
       " '8122',\n",
       " '312',\n",
       " '29728',\n",
       " '204',\n",
       " '8145',\n",
       " '45627',\n",
       " '42612',\n",
       " '35183',\n",
       " '29480',\n",
       " '35105',\n",
       " '45275',\n",
       " '2101',\n",
       " '1216',\n",
       " '41459',\n",
       " '8575',\n",
       " '41846',\n",
       " '41815',\n",
       " '41798',\n",
       " '41844',\n",
       " '41817',\n",
       " '41978',\n",
       " '9303',\n",
       " '1951',\n",
       " '430',\n",
       " '45625',\n",
       " '40943',\n",
       " '40514',\n",
       " '22580',\n",
       " '8430',\n",
       " '41583',\n",
       " '39201',\n",
       " '38379',\n",
       " '38437',\n",
       " '39846',\n",
       " '44197',\n",
       " '40369',\n",
       " '21842',\n",
       " '29623',\n",
       " '44667',\n",
       " '35163',\n",
       " '39120',\n",
       " '36362',\n",
       " '3781',\n",
       " '8016',\n",
       " '1146',\n",
       " '37442',\n",
       " '23116',\n",
       " '40347',\n",
       " '44212',\n",
       " '21682',\n",
       " '2965',\n",
       " '29419',\n",
       " '29820',\n",
       " '35278',\n",
       " '38414',\n",
       " '38570',\n",
       " '40709',\n",
       " '40887',\n",
       " '32',\n",
       " '1680',\n",
       " '45766',\n",
       " '999',\n",
       " '35429',\n",
       " '35297',\n",
       " '22230',\n",
       " '35247',\n",
       " '7608',\n",
       " '42413',\n",
       " '35092',\n",
       " '41187',\n",
       " '41232',\n",
       " '1435',\n",
       " '334',\n",
       " '38420',\n",
       " '36421',\n",
       " '40989',\n",
       " '147',\n",
       " '40945',\n",
       " '1764',\n",
       " '1158',\n",
       " '40498',\n",
       " '7086',\n",
       " '38470',\n",
       " '35941',\n",
       " '8317',\n",
       " '39647',\n",
       " '39608',\n",
       " '2738',\n",
       " '33548',\n",
       " '3734',\n",
       " '889',\n",
       " '29855',\n",
       " '21973',\n",
       " '29792',\n",
       " '7392',\n",
       " '23356',\n",
       " '825',\n",
       " '45463',\n",
       " '33436',\n",
       " '2397',\n",
       " '2174',\n",
       " '9367',\n",
       " '2641',\n",
       " '5546',\n",
       " '33354',\n",
       " '1385',\n",
       " '40413',\n",
       " '869',\n",
       " '41074',\n",
       " '38175',\n",
       " '43263',\n",
       " '22757',\n",
       " '42033',\n",
       " '9836',\n",
       " '1315',\n",
       " '45457',\n",
       " '42108',\n",
       " '6126',\n",
       " '45653',\n",
       " '40432',\n",
       " '44748',\n",
       " '7069',\n",
       " '22305',\n",
       " '4540',\n",
       " '36333',\n",
       " '36471',\n",
       " '9966',\n",
       " '837',\n",
       " '1157',\n",
       " '22047',\n",
       " '38396',\n",
       " '1378',\n",
       " '41907',\n",
       " '22901',\n",
       " '43871',\n",
       " '40814',\n",
       " '37405',\n",
       " '41569',\n",
       " '35118',\n",
       " '40531',\n",
       " '393',\n",
       " '47617',\n",
       " '8408',\n",
       " '40434',\n",
       " '39920',\n",
       " '8182',\n",
       " '4374',\n",
       " '7820',\n",
       " '33299',\n",
       " '22396',\n",
       " '45576',\n",
       " '21952',\n",
       " '550',\n",
       " '39171',\n",
       " '888',\n",
       " '37441',\n",
       " '1428',\n",
       " '23640',\n",
       " '4513',\n",
       " '29781',\n",
       " '29738',\n",
       " '412',\n",
       " '36423',\n",
       " '36343',\n",
       " '1027',\n",
       " '1180',\n",
       " '35329',\n",
       " '37933',\n",
       " '40728',\n",
       " '39778',\n",
       " '40425',\n",
       " '983',\n",
       " '7397',\n",
       " '7852',\n",
       " '2107',\n",
       " '6358',\n",
       " '39209',\n",
       " '22746',\n",
       " '9135',\n",
       " '37364',\n",
       " '36320',\n",
       " '37368',\n",
       " '40976',\n",
       " '45102',\n",
       " '39297',\n",
       " '22353',\n",
       " '41575',\n",
       " '45219',\n",
       " '685',\n",
       " '46666',\n",
       " '4690',\n",
       " '44659',\n",
       " '42437',\n",
       " '39114',\n",
       " '39116',\n",
       " '5179',\n",
       " '39222',\n",
       " '36566',\n",
       " '8355',\n",
       " '3320',\n",
       " '41629',\n",
       " '39278',\n",
       " '39182',\n",
       " '8013',\n",
       " '37664',\n",
       " '41791',\n",
       " '1824',\n",
       " '36468',\n",
       " '44158',\n",
       " '8559',\n",
       " '42474',\n",
       " '2178',\n",
       " '8213',\n",
       " '304',\n",
       " '43958',\n",
       " '39776',\n",
       " '33411',\n",
       " '1194',\n",
       " '9780',\n",
       " '38401',\n",
       " '42786',\n",
       " '242',\n",
       " '6243',\n",
       " '42080',\n",
       " '33623',\n",
       " '7947',\n",
       " '45726',\n",
       " '447',\n",
       " '2302',\n",
       " '36506',\n",
       " '8941',\n",
       " '41898',\n",
       " '29910',\n",
       " '2100',\n",
       " '456',\n",
       " '621',\n",
       " '462',\n",
       " '42775',\n",
       " '2691',\n",
       " '39119',\n",
       " '39136',\n",
       " '39134',\n",
       " '39166',\n",
       " '41536',\n",
       " '39188',\n",
       " '43181',\n",
       " '23169',\n",
       " '30012',\n",
       " '272',\n",
       " '2807',\n",
       " '45619',\n",
       " '36617',\n",
       " '36386',\n",
       " '42765',\n",
       " '44309',\n",
       " '41169',\n",
       " '37427',\n",
       " '42337',\n",
       " '9294',\n",
       " '44182',\n",
       " '36821',\n",
       " '41778',\n",
       " '9197',\n",
       " '4097',\n",
       " '754',\n",
       " '8074',\n",
       " '2628',\n",
       " '45909',\n",
       " '446',\n",
       " '674',\n",
       " '46489',\n",
       " '46698',\n",
       " '45031',\n",
       " '5547',\n",
       " '23729',\n",
       " '21845',\n",
       " '42782',\n",
       " '46221',\n",
       " '23011',\n",
       " '36505',\n",
       " '36734',\n",
       " '36774',\n",
       " '37598',\n",
       " '40487',\n",
       " '6240',\n",
       " '39500',\n",
       " '46804',\n",
       " '47630',\n",
       " '40842',\n",
       " '44181',\n",
       " '1261',\n",
       " '46120',\n",
       " '40502',\n",
       " '43959',\n",
       " '47578',\n",
       " '29945',\n",
       " '46968',\n",
       " '8578',\n",
       " '47599',\n",
       " '46676',\n",
       " '42647',\n",
       " '23494',\n",
       " '8706',\n",
       " '29960',\n",
       " '2416',\n",
       " '33388',\n",
       " '47588',\n",
       " '4328',\n",
       " '40511',\n",
       " '45016',\n",
       " '8637',\n",
       " '39299',\n",
       " '35136',\n",
       " '41419',\n",
       " '39804',\n",
       " '39866',\n",
       " '46614',\n",
       " '9678',\n",
       " '30312',\n",
       " '23305',\n",
       " '40461',\n",
       " '35257',\n",
       " '29753',\n",
       " '44694',\n",
       " '46238',\n",
       " '35251',\n",
       " '40521',\n",
       " '40153',\n",
       " '3500',\n",
       " '39186',\n",
       " '517',\n",
       " '3538',\n",
       " '43278',\n",
       " '29513',\n",
       " '36067',\n",
       " '33301',\n",
       " '138',\n",
       " '680',\n",
       " '1988',\n",
       " '42331',\n",
       " '35255',\n",
       " '38510',\n",
       " '39162',\n",
       " '39737',\n",
       " '9866',\n",
       " '36974',\n",
       " '40282',\n",
       " '35335',\n",
       " '35292',\n",
       " '23384',\n",
       " '29999',\n",
       " '2594',\n",
       " '8177',\n",
       " '3425',\n",
       " '40984',\n",
       " '22714',\n",
       " '47513',\n",
       " '46253',\n",
       " '29849',\n",
       " '47058',\n",
       " '46225',\n",
       " '46411',\n",
       " '46535',\n",
       " '46264']"
      ]
     },
     "execution_count": 11,
     "metadata": {},
     "output_type": "execute_result"
    }
   ],
   "source": [
    "item"
   ]
  },
  {
   "cell_type": "code",
   "execution_count": 12,
   "metadata": {},
   "outputs": [],
   "source": [
    "DATA_PATH = '/home/luongnv/Documents/DataScience/Project-Tripi/data/table/others/hotel_logging.csv'"
   ]
  },
  {
   "cell_type": "code",
   "execution_count": null,
   "metadata": {},
   "outputs": [],
   "source": [
    "dataset = pd.read_csv(DATA_PATH)\n",
    "print(dataset.shape)\n",
    "dataset.head(5)"
   ]
  },
  {
   "cell_type": "code",
   "execution_count": null,
   "metadata": {},
   "outputs": [],
   "source": [
    "_4000_PATH = '/home/luongnv/Documents/DataScience/Project-Tripi/data/cleaned-table/show_4000.csv'\n",
    "_4000_hotels = pd.read_csv(_4000_PATH)\n",
    "hotel_id = _4000_hotels[['hotel_id']]\n",
    "hotel_id.T"
   ]
  },
  {
   "cell_type": "code",
   "execution_count": null,
   "metadata": {},
   "outputs": [],
   "source": [
    "search = hotel_id.merge(dataset, on='hotel_id')"
   ]
  },
  {
   "cell_type": "code",
   "execution_count": null,
   "metadata": {},
   "outputs": [],
   "source": [
    "cols = ['user_id', 'created_datetime', 'hotel_id', 'action_name', 'session_id']\n",
    "\n",
    "data = search[cols] # .sample(2000, random_state=0)\n",
    "data = data[data['action_name'] == '2_click']\n",
    "data.T"
   ]
  },
  {
   "cell_type": "code",
   "execution_count": null,
   "metadata": {},
   "outputs": [],
   "source": [
    "data['created_datetime'] = data['created_datetime'].apply(lambda s: datetime.datetime.strptime(s, '%Y-%m-%d %H:%M:%S'))\n",
    "data.sort_values('created_datetime', ascending=True, inplace=True)\n",
    "data"
   ]
  },
  {
   "cell_type": "code",
   "execution_count": null,
   "metadata": {},
   "outputs": [],
   "source": [
    "start = time.time()\n",
    "sessions = []\n",
    "for user_id, df in data.groupby('user_id', sort=False):\n",
    "    session = []\n",
    "    for index, row in df.iterrows():\n",
    "        session.append(str(row['hotel_id']))\n",
    "  \n",
    "    sessions.append(session)\n",
    "    \n",
    "print(\"Took {}'s\".format(time.time() - start))\n",
    "\n",
    "print(sessions[0])"
   ]
  },
  {
   "cell_type": "code",
   "execution_count": null,
   "metadata": {},
   "outputs": [],
   "source": [
    "for user_id, df in data.groupby('user_id', sort=False):\n",
    "    print(df)"
   ]
  },
  {
   "cell_type": "code",
   "execution_count": null,
   "metadata": {},
   "outputs": [],
   "source": [
    "len(sessions)"
   ]
  },
  {
   "cell_type": "code",
   "execution_count": null,
   "metadata": {},
   "outputs": [],
   "source": [
    "sessions"
   ]
  },
  {
   "cell_type": "code",
   "execution_count": null,
   "metadata": {},
   "outputs": [],
   "source": [
    "def make_ngrams(session, n=5):\n",
    "    return list(zip(*[session[i:] for i in range(n)]))"
   ]
  },
  {
   "cell_type": "code",
   "execution_count": null,
   "metadata": {},
   "outputs": [],
   "source": [
    "gen_sessions = []\n",
    "for session in sessions:\n",
    "    gen_sessions.extend(make_ngrams(session, 5))\n",
    "\n",
    "print(len(gen_sessions))"
   ]
  },
  {
   "cell_type": "code",
   "execution_count": null,
   "metadata": {},
   "outputs": [],
   "source": [
    "gen_sessions"
   ]
  },
  {
   "cell_type": "code",
   "execution_count": null,
   "metadata": {},
   "outputs": [],
   "source": [
    "actual = ['41382']\n",
    "\n",
    "predicted = ['45005', '41382']\n",
    "\n",
    "print('Answer=',actual,'predicted=',predicted)\n",
    "print('AP@5 =',metrics.apk(actual,predicted,5) )"
   ]
  },
  {
   "cell_type": "code",
   "execution_count": null,
   "metadata": {},
   "outputs": [],
   "source": [
    "data[['user_id']].value_counts()[9114710392698631834]"
   ]
  },
  {
   "cell_type": "code",
   "execution_count": null,
   "metadata": {},
   "outputs": [],
   "source": [
    "start = time.time()\n",
    "sessions_test = []\n",
    "users_test = []\n",
    "for user_id, df in data.groupby('user_id', sort=False):\n",
    "    session_test = []\n",
    "    for index, row in df.iterrows():\n",
    "        session_test.append(str(row['hotel_id']))\n",
    "  \n",
    "    users_test.append(user_id)\n",
    "    sessions_test.append(session_test)\n",
    "    \n",
    "print(\"Took {}'s\".format(time.time() - start))\n",
    "\n",
    "print(sessions_test[0])\n",
    "print(users_test[0])"
   ]
  },
  {
   "cell_type": "code",
   "execution_count": null,
   "metadata": {},
   "outputs": [],
   "source": [
    "sessions_test"
   ]
  },
  {
   "cell_type": "code",
   "execution_count": null,
   "metadata": {},
   "outputs": [],
   "source": []
  }
 ],
 "metadata": {
  "kernelspec": {
   "display_name": "Python 3",
   "language": "python",
   "name": "python3"
  },
  "language_info": {
   "codemirror_mode": {
    "name": "ipython",
    "version": 3
   },
   "file_extension": ".py",
   "mimetype": "text/x-python",
   "name": "python",
   "nbconvert_exporter": "python",
   "pygments_lexer": "ipython3",
   "version": "3.8.2"
  }
 },
 "nbformat": 4,
 "nbformat_minor": 4
}
